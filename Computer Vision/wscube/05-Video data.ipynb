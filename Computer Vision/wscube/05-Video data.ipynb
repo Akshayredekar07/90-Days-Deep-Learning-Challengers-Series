{
 "cells": [
  {
   "cell_type": "code",
   "execution_count": 1,
   "metadata": {},
   "outputs": [],
   "source": [
    "import cv2"
   ]
  },
  {
   "cell_type": "code",
   "execution_count": 2,
   "metadata": {},
   "outputs": [
    {
     "name": "stdout",
     "output_type": "stream",
     "text": [
      "File exists: True\n"
     ]
    }
   ],
   "source": [
    "import os\n",
    "\n",
    "video_path = \"test.mp4\"\n",
    "print(\"File exists:\", os.path.exists(video_path))\n"
   ]
  },
  {
   "cell_type": "code",
   "execution_count": 5,
   "metadata": {},
   "outputs": [
    {
     "name": "stdout",
     "output_type": "stream",
     "text": [
      "Video stopped by user.\n"
     ]
    }
   ],
   "source": [
    "import cv2\n",
    "\n",
    "video_path = \"test.mp4\"\n",
    "cap = cv2.VideoCapture(video_path)\n",
    "\n",
    "if not cap.isOpened():\n",
    "    print(\"Error: Could not open video.\")\n",
    "    exit()\n",
    "\n",
    "paused = False  # Flag to track pause state\n",
    "\n",
    "while True:\n",
    "    if not paused:\n",
    "        r, frame = cap.read()\n",
    "        if not r:\n",
    "            print(\"End of video or cannot read frame.\")\n",
    "            break\n",
    "        frame = cv2.resize(frame, (400, 700))\n",
    "        cv2.imshow(\"video\", frame)\n",
    "\n",
    "    key = cv2.waitKey(30) & 0xFF\n",
    "    if key == ord('p'):\n",
    "        paused = not paused  # Toggle pause/resume\n",
    "    elif key == ord('q'):\n",
    "        print(\"Video stopped by user.\")\n",
    "        break\n",
    "\n",
    "cap.release()\n",
    "cv2.destroyAllWindows()\n"
   ]
  },
  {
   "cell_type": "markdown",
   "metadata": {},
   "source": [
    "#### Capture Video from the Camera using OpenCV"
   ]
  },
  {
   "cell_type": "code",
   "execution_count": null,
   "metadata": {},
   "outputs": [
    {
     "name": "stdout",
     "output_type": "stream",
     "text": [
      "Video stopped by user.\n"
     ]
    }
   ],
   "source": [
    "import cv2\n",
    "\n",
    "cap = cv2.VideoCapture(0)\n",
    "\n",
    "if not cap.isOpened():\n",
    "    print(\"Error: Could not access the webcam.\")\n",
    "    exit()\n",
    "\n",
    "while True:\n",
    "    r, frame = cap.read()\n",
    "    if not r:\n",
    "        print(\"Error: Failed to read frame from webcam.\")\n",
    "        break\n",
    "\n",
    "        \n",
    "    cv2.imshow(\"wscube\", frame)\n",
    "\n",
    "    # Press any key to break (waitKey returns -1 if no key is pressed)\n",
    "    key = cv2.waitKey(25) & 0xFF\n",
    "    if key != 255:  # 255 means no key was pressed\n",
    "        print(\"Video stopped by user.\")\n",
    "        break\n",
    "\n",
    "cap.release()\n",
    "cv2.destroyAllWindows()\n"
   ]
  },
  {
   "cell_type": "markdown",
   "metadata": {},
   "source": [
    "### Slow and Fast Motion Video"
   ]
  },
  {
   "cell_type": "code",
   "execution_count": 7,
   "metadata": {},
   "outputs": [
    {
     "name": "stdout",
     "output_type": "stream",
     "text": [
      "Video stopped by user.\n"
     ]
    }
   ],
   "source": [
    "import cv2\n",
    "video_path = \"test.mp4\"\n",
    "cap = cv2.VideoCapture(video_path)\n",
    "if not cap.isOpened():\n",
    "    print(\"Error: Could not access the webcam.\")\n",
    "    exit()\n",
    "\n",
    "while True:\n",
    "    r, frame = cap.read()\n",
    "    if not r:\n",
    "        print(\"Error: Failed to read frame from webcam.\")\n",
    "        break\n",
    "    \n",
    "    frame = cv2.resize(frame, (400, 700))\n",
    "    cv2.imshow(\"test\", frame)\n",
    "\n",
    "    key = cv2.waitKey(50) & 0xFF\n",
    "    if key != 255: \n",
    "        print(\"Video stopped by user.\")\n",
    "        break\n",
    "\n",
    "cap.release()\n",
    "cv2.destroyAllWindows()\n"
   ]
  },
  {
   "cell_type": "code",
   "execution_count": 8,
   "metadata": {},
   "outputs": [
    {
     "name": "stdout",
     "output_type": "stream",
     "text": [
      "Slowed down: delay = 60ms\n",
      "Slowed down: delay = 70ms\n",
      "Slowed down: delay = 80ms\n",
      "Slowed down: delay = 90ms\n",
      "Slowed down: delay = 100ms\n",
      "Slowed down: delay = 110ms\n",
      "Slowed down: delay = 120ms\n",
      "Sped up: delay = 110ms\n",
      "Sped up: delay = 100ms\n",
      "Sped up: delay = 90ms\n",
      "Sped up: delay = 80ms\n",
      "Sped up: delay = 70ms\n",
      "Sped up: delay = 60ms\n",
      "Sped up: delay = 50ms\n",
      "Sped up: delay = 40ms\n",
      "Sped up: delay = 30ms\n",
      "Sped up: delay = 20ms\n",
      "Sped up: delay = 10ms\n",
      "Sped up: delay = 1ms\n",
      "Video stopped by user.\n"
     ]
    }
   ],
   "source": [
    "import cv2\n",
    "\n",
    "video_path = \"test.mp4\"\n",
    "cap = cv2.VideoCapture(video_path)\n",
    "\n",
    "if not cap.isOpened():\n",
    "    print(\"Error: Could not open video.\")\n",
    "    exit()\n",
    "\n",
    "delay = 50  # Initial playback speed (milliseconds)\n",
    "\n",
    "while True:\n",
    "    r, frame = cap.read()\n",
    "    if not r:\n",
    "        print(\"Error: Failed to read frame from video.\")\n",
    "        break\n",
    "\n",
    "    frame = cv2.resize(frame, (400, 700))\n",
    "    cv2.imshow(\"test\", frame)\n",
    "\n",
    "    key = cv2.waitKey(delay) & 0xFF\n",
    "    if key == ord('q'):\n",
    "        print(\"Video stopped by user.\")\n",
    "        break\n",
    "    elif key == ord('s'):  # Slow motion\n",
    "        delay = min(200, delay + 10)  # Increase delay (slower), max 200ms\n",
    "        print(f\"Slowed down: delay = {delay}ms\")\n",
    "    elif key == ord('f'):  # Fast motion\n",
    "        delay = max(1, delay - 10)  # Decrease delay (faster), min 1ms\n",
    "        print(f\"Sped up: delay = {delay}ms\")\n",
    "\n",
    "cap.release()\n",
    "cv2.destroyAllWindows()\n"
   ]
  },
  {
   "cell_type": "code",
   "execution_count": null,
   "metadata": {},
   "outputs": [],
   "source": []
  }
 ],
 "metadata": {
  "kernelspec": {
   "display_name": "Python 3",
   "language": "python",
   "name": "python3"
  },
  "language_info": {
   "codemirror_mode": {
    "name": "ipython",
    "version": 3
   },
   "file_extension": ".py",
   "mimetype": "text/x-python",
   "name": "python",
   "nbconvert_exporter": "python",
   "pygments_lexer": "ipython3",
   "version": "3.10.9"
  }
 },
 "nbformat": 4,
 "nbformat_minor": 2
}
