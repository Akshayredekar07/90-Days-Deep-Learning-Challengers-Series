{
 "cells": [
  {
   "cell_type": "code",
   "execution_count": 1,
   "metadata": {},
   "outputs": [],
   "source": [
    "import cv2"
   ]
  },
  {
   "cell_type": "code",
   "execution_count": 13,
   "metadata": {},
   "outputs": [],
   "source": [
    "img1=cv2.imread(\"mrunal.png\")\n",
    "img2=cv2.imread(\"sai.png\")\n",
    "\n",
    "img1=cv2.resize(img1, (500,500))\n",
    "img2=cv2.resize(img2, (500,500))\n",
    "\n",
    "new_img=cv2.addWeighted(img1, 0.3, img2, 1,1)\n",
    "\n",
    "cv2.imshow(\"overlapped image\", new_img)\n",
    "cv2.waitKey(0)\n",
    "cv2.destroyAllWindows()"
   ]
  },
  {
   "cell_type": "code",
   "execution_count": 14,
   "metadata": {},
   "outputs": [],
   "source": [
    "img1=cv2.imread(\"mrunal.png\")\n",
    "img2=cv2.imread(\"sai.png\")\n",
    "\n",
    "img1=cv2.resize(img1, (500,500))\n",
    "img2=cv2.resize(img2, (500,500))\n",
    "\n",
    "# new_img=cv2.subtract(img1, img2)\n",
    "new_img=cv2.subtract(img2, img1)\n",
    "\n",
    "\n",
    "cv2.imshow(\"overlapped image\", new_img)\n",
    "cv2.waitKey(0)\n",
    "cv2.destroyAllWindows()"
   ]
  },
  {
   "cell_type": "markdown",
   "metadata": {},
   "source": [
    "### **Bitwise Operations**"
   ]
  },
  {
   "cell_type": "code",
   "execution_count": 2,
   "metadata": {},
   "outputs": [],
   "source": [
    "import numpy as np"
   ]
  },
  {
   "cell_type": "code",
   "execution_count": 3,
   "metadata": {},
   "outputs": [],
   "source": [
    "\n",
    "img1=cv2.imread(\"mrunal.png\")\n",
    "img2=cv2.imread(\"sai.png\")\n",
    "\n",
    "img1=cv2.resize(img1, (500,500))\n",
    "img2=cv2.resize(img2, (500,500))\n",
    "\n",
    "new_img=cv2.bitwise_and(img1, img2)\n",
    "h1=np.hstack((img1, img2, new_img))\n",
    "\n",
    "cv2.imshow(\"image\", h1)\n",
    "cv2.waitKey(0)\n",
    "cv2.destroyAllWindows()\n"
   ]
  },
  {
   "cell_type": "code",
   "execution_count": 4,
   "metadata": {},
   "outputs": [],
   "source": [
    "# OR\n",
    "\n",
    "img1=cv2.imread(\"mrunal.png\")\n",
    "img2=cv2.imread(\"sai.png\")\n",
    "\n",
    "img1=cv2.resize(img1, (500,500))\n",
    "img2=cv2.resize(img2, (500,500))\n",
    "\n",
    "new_img=cv2.bitwise_or(img1, img2)\n",
    "h1=np.hstack((img1, img2, new_img))\n",
    "\n",
    "cv2.imshow(\"image\", h1)\n",
    "cv2.waitKey(0)\n",
    "cv2.destroyAllWindows()\n"
   ]
  },
  {
   "cell_type": "code",
   "execution_count": 5,
   "metadata": {},
   "outputs": [],
   "source": [
    "# OR\n",
    "\n",
    "img1=cv2.imread(\"mrunal.png\")\n",
    "img2=cv2.imread(\"sai.png\")\n",
    "\n",
    "img1=cv2.resize(img1, (500,500))\n",
    "img2=cv2.resize(img2, (500,500))\n",
    "\n",
    "new_img=cv2.bitwise_xor(img1, img2)\n",
    "h1=np.hstack((img1, img2, new_img))\n",
    "\n",
    "cv2.imshow(\"image\", h1)\n",
    "cv2.waitKey(0)\n",
    "cv2.destroyAllWindows()\n"
   ]
  },
  {
   "cell_type": "code",
   "execution_count": 7,
   "metadata": {},
   "outputs": [],
   "source": [
    "# Read the images\n",
    "img1=cv2.imread(\"mrunal.png\")\n",
    "img2=cv2.imread(\"sai.png\")\n",
    "\n",
    "# Resize images to the same size\n",
    "img1 = cv2.resize(img1, (300, 300))\n",
    "img2 = cv2.resize(img2, (300, 300))\n",
    "\n",
    "# Apply bitwise AND operation\n",
    "bitwise_and_result = cv2.bitwise_and(img1, img2)\n",
    "\n",
    "# Stack images horizontally for comparison\n",
    "h_stack = np.hstack((img1, img2, bitwise_and_result))\n",
    "\n",
    "# Display result\n",
    "cv2.imshow(\"Bitwise AND Operation\", h_stack)\n",
    "\n",
    "cv2.waitKey(0)\n",
    "cv2.destroyAllWindows()\n"
   ]
  },
  {
   "cell_type": "code",
   "execution_count": 9,
   "metadata": {},
   "outputs": [],
   "source": [
    "# Read image\n",
    "img = cv2.imread(\"flowers.jpg\")\n",
    "\n",
    "# Resize image\n",
    "img = cv2.resize(img, (300, 300))\n",
    "\n",
    "# Apply bitwise NOT operation\n",
    "bitwise_not_result = cv2.bitwise_not(img)\n",
    "\n",
    "# Stack images for visualization\n",
    "h_stack = np.hstack((img, bitwise_not_result))\n",
    "\n",
    "# Display result\n",
    "cv2.imshow(\"Bitwise NOT Operation\", h_stack)\n",
    "\n",
    "cv2.waitKey(0)\n",
    "cv2.destroyAllWindows()\n"
   ]
  },
  {
   "cell_type": "code",
   "execution_count": 10,
   "metadata": {},
   "outputs": [],
   "source": [
    "img1=cv2.imread(\"mrunal.png\")\n",
    "img2=cv2.imread(\"sai.png\")\n",
    "\n",
    "\n",
    "# Resize images\n",
    "img1 = cv2.resize(img1, (300, 300))\n",
    "img2 = cv2.resize(img2, (300, 300))\n",
    "\n",
    "# Apply bitwise operations\n",
    "bitwise_and = cv2.bitwise_and(img1, img2)\n",
    "bitwise_or = cv2.bitwise_or(img1, img2)\n",
    "bitwise_xor = cv2.bitwise_xor(img1, img2)\n",
    "bitwise_not1 = cv2.bitwise_not(img1)\n",
    "bitwise_not2 = cv2.bitwise_not(img2)\n",
    "\n",
    "# Stack horizontally\n",
    "h1 = np.hstack((img1, img2, bitwise_and))\n",
    "h2 = np.hstack((bitwise_or, bitwise_xor, bitwise_not1))\n",
    "h3 = np.hstack((bitwise_not2, np.zeros_like(img1), np.zeros_like(img1)))\n",
    "\n",
    "# Stack vertically\n",
    "final_output = np.vstack((h1, h2, h3))\n",
    "\n",
    "# Display result\n",
    "cv2.imshow(\"Bitwise Operations\", final_output)\n",
    "\n",
    "cv2.waitKey(0)\n",
    "cv2.destroyAllWindows()\n"
   ]
  },
  {
   "cell_type": "code",
   "execution_count": 1,
   "metadata": {},
   "outputs": [
    {
     "data": {
      "image/png": "[encoded data removed]",
      "text/plain": [
       "<Figure size 800x600 with 1 Axes>"
      ]
     },
     "metadata": {},
     "output_type": "display_data"
    }
   ],
   "source": [
    "import numpy as np\n",
    "import matplotlib.pyplot as plt\n",
    "import cv2\n",
    "\n",
    "# Create two simple binary images\n",
    "img1 = np.zeros((200, 200), dtype=np.uint8)\n",
    "img2 = np.zeros((200, 200), dtype=np.uint8)\n",
    "\n",
    "\n",
    "cv2.circle(img1, center=(100, 100), radius=80, color=(255,), thickness=-1)\n",
    "cv2.rectangle(img2, pt1=(50, 50), pt2=(150, 150), color=(255,), thickness=-1)\n",
    "\n",
    "# Perform bitwise operations\n",
    "bitwise_and = cv2.bitwise_and(img1, img2)\n",
    "bitwise_or = cv2.bitwise_or(img1, img2)\n",
    "bitwise_xor = cv2.bitwise_xor(img1, img2)\n",
    "bitwise_not_img1 = cv2.bitwise_not(img1)\n",
    "\n",
    "# Create horizontal and vertical stacks for visualization\n",
    "top_row = np.hstack((img1, img2, bitwise_and))\n",
    "bottom_row = np.hstack((bitwise_or, bitwise_xor, bitwise_not_img1))\n",
    "result = np.vstack((top_row, bottom_row))\n",
    "\n",
    "# Display the result\n",
    "plt.figure(figsize=(8, 6))\n",
    "plt.imshow(result, cmap='gray')\n",
    "plt.title('Bitwise Operations Demo')\n",
    "plt.axis('off')\n",
    "plt.tight_layout()\n",
    "plt.show()\n"
   ]
  },
  {
   "cell_type": "code",
   "execution_count": null,
   "metadata": {},
   "outputs": [],
   "source": []
  }
 ],
 "metadata": {
  "kernelspec": {
   "display_name": "Python 3",
   "language": "python",
   "name": "python3"
  },
  "language_info": {
   "codemirror_mode": {
    "name": "ipython",
    "version": 3
   },
   "file_extension": ".py",
   "mimetype": "text/x-python",
   "name": "python",
   "nbconvert_exporter": "python",
   "pygments_lexer": "ipython3",
   "version": "3.10.9"
  }
 },
 "nbformat": 4,
 "nbformat_minor": 2
}
