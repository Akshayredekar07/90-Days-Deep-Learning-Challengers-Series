{
 "cells": [
  {
   "cell_type": "code",
   "execution_count": 2,
   "metadata": {},
   "outputs": [],
   "source": [
    "import numpy as np\n",
    "\n",
    "# Create a simple 3x3 matrix\n",
    "A = np.array([[10, 21, 36], [47, 51, 64], [72, 87, 91]])\n",
    "\n",
    "# Get eigenvalues and eigenvectors\n",
    "values, vectors = np.linalg.eig(A)"
   ]
  },
  {
   "cell_type": "code",
   "execution_count": 3,
   "metadata": {},
   "outputs": [
    {
     "data": {
      "text/plain": [
       "array([170.53270055, -12.64773681,  -5.88496373])"
      ]
     },
     "execution_count": 3,
     "metadata": {},
     "output_type": "execute_result"
    }
   ],
   "source": [
    "values"
   ]
  },
  {
   "cell_type": "code",
   "execution_count": 4,
   "metadata": {},
   "outputs": [
    {
     "data": {
      "text/plain": [
       "array([[-0.2509516 , -0.87850736,  0.71894055],\n",
       "       [-0.53175418,  0.22492691, -0.68983358],\n",
       "       [-0.80886388,  0.42146495,  0.08517112]])"
      ]
     },
     "execution_count": 4,
     "metadata": {},
     "output_type": "execute_result"
    }
   ],
   "source": [
    "vectors"
   ]
  },
  {
   "cell_type": "code",
   "execution_count": 5,
   "metadata": {},
   "outputs": [
    {
     "name": "stdout",
     "output_type": "stream",
     "text": [
      "[[10. 21. 36.]\n",
      " [47. 51. 64.]\n",
      " [72. 87. 91.]]\n"
     ]
    }
   ],
   "source": [
    "\n",
    "# Diagonalize the eigenvalues\n",
    "values_diag = np.diag(values)\n",
    "\n",
    "# Invert the eigenvectors\n",
    "vectors_inv = np.linalg.inv(vectors)\n",
    "\n",
    "# Reconstruct the original matrix\n",
    "A_reconstructed = vectors @ values_diag @ vectors_inv\n",
    "\n",
    "print(A_reconstructed)\n"
   ]
  },
  {
   "cell_type": "code",
   "execution_count": 8,
   "metadata": {},
   "outputs": [],
   "source": [
    "import numpy as np\n",
    "\n",
    "def shifting_redirection(M, eigenvalue, eigenvector):\n",
    "    \"\"\"\n",
    "    Apply shifting redirection to the matrix to compute next eigenpair: M = M-lambda v\n",
    "    \"\"\"\n",
    "    return(M-eigenvalue*np.matmul(eigenvector.T, eigenvector))\n",
    "\n",
    "def power_method(M, epsilon=0.0001, max_iter=10000, iteration=None):\n",
    "    \"\"\"\n",
    "    This function computes the principal component of M by using the power method with parameters:\n",
    "    - epsilon: (float) Termination criterion to stop the power method when changes in the solution is marginal\n",
    "    - max_iter: (int) Hard termination criterion\n",
    "    - iteration: (optional) An integer to indicate the current iteration for logging purposes (if needed)\n",
    "    Notes:\n",
    "    - I added another condition based on the dot product of two consecutive solutions\n",
    "    \"\"\"\n",
    "    # Initialization\n",
    "    x = [None]*int(max_iter)\n",
    "    x[0] = np.random.rand(M.shape[0])\n",
    "    x[1] = np.matmul(M, x[0])\n",
    "    count = 0\n",
    "    \n",
    "    # Compute eigenvector\n",
    "    while((np.linalg.norm(x[count] - x[count-1]) > epsilon) and (count < max_iter)):\n",
    "        # Actual computations\n",
    "        x[count+1] = np.matmul(M, x[count]) / np.linalg.norm(np.matmul(M, x[count]))\n",
    "        count += 1\n",
    "        \n",
    "    # Compute eigenvalue\n",
    "    eigenvalue = np.matmul(np.matmul(x[count].T, M), x[count])\n",
    "    \n",
    "    return (x[count], eigenvalue)\n",
    "\n",
    "\n",
    "def eigenpairs(M, epsilon = 0.00001, max_iter = 10e2, plot = True):\n",
    "    # Initialization\n",
    "    eigenvectors = [None]*M.shape[0]\n",
    "    eigenvalues = [None]*M.shape[0]\n",
    "    \n",
    "    for i in range(0, M.shape[0]):\n",
    "        # Actual computing\n",
    "        eigenvectors[i], eigenvalues[i] = power_method(M, epsilon, max_iter, iteration = i+1) \n",
    "        M = shifting_redirection(M, eigenvalues[i], eigenvectors[i])\n",
    "\n",
    "    return(eigenvectors, eigenvalues)"
   ]
  },
  {
   "cell_type": "code",
   "execution_count": 9,
   "metadata": {},
   "outputs": [
    {
     "ename": "TypeError",
     "evalue": "unsupported operand type(s) for -: 'float' and 'NoneType'",
     "output_type": "error",
     "traceback": [
      "\u001b[1;31m---------------------------------------------------------------------------\u001b[0m",
      "\u001b[1;31mTypeError\u001b[0m                                 Traceback (most recent call last)",
      "Cell \u001b[1;32mIn[9], line 6\u001b[0m\n\u001b[0;32m      2\u001b[0m M \u001b[38;5;241m=\u001b[39m np\u001b[38;5;241m.\u001b[39marray([[\u001b[38;5;241m4\u001b[39m, \u001b[38;5;241m1\u001b[39m], \n\u001b[0;32m      3\u001b[0m               [\u001b[38;5;241m2\u001b[39m, \u001b[38;5;241m3\u001b[39m]])\n\u001b[0;32m      5\u001b[0m \u001b[38;5;66;03m# Compute eigenpairs\u001b[39;00m\n\u001b[1;32m----> 6\u001b[0m eigenvectors, eigenvalues \u001b[38;5;241m=\u001b[39m \u001b[43meigenpairs\u001b[49m\u001b[43m(\u001b[49m\u001b[43mM\u001b[49m\u001b[43m)\u001b[49m\n\u001b[0;32m      8\u001b[0m \u001b[38;5;28mprint\u001b[39m(\u001b[38;5;124m\"\u001b[39m\u001b[38;5;124mEigenvalues:\u001b[39m\u001b[38;5;124m\"\u001b[39m, eigenvalues)\n\u001b[0;32m      9\u001b[0m \u001b[38;5;28mprint\u001b[39m(\u001b[38;5;124m\"\u001b[39m\u001b[38;5;124mEigenvectors:\u001b[39m\u001b[38;5;124m\"\u001b[39m, eigenvectors)\n",
      "Cell \u001b[1;32mIn[8], line 43\u001b[0m, in \u001b[0;36meigenpairs\u001b[1;34m(M, epsilon, max_iter, plot)\u001b[0m\n\u001b[0;32m     39\u001b[0m eigenvalues \u001b[38;5;241m=\u001b[39m [\u001b[38;5;28;01mNone\u001b[39;00m]\u001b[38;5;241m*\u001b[39mM\u001b[38;5;241m.\u001b[39mshape[\u001b[38;5;241m0\u001b[39m]\n\u001b[0;32m     41\u001b[0m \u001b[38;5;28;01mfor\u001b[39;00m i \u001b[38;5;129;01min\u001b[39;00m \u001b[38;5;28mrange\u001b[39m(\u001b[38;5;241m0\u001b[39m, M\u001b[38;5;241m.\u001b[39mshape[\u001b[38;5;241m0\u001b[39m]):\n\u001b[0;32m     42\u001b[0m     \u001b[38;5;66;03m# Actual computing\u001b[39;00m\n\u001b[1;32m---> 43\u001b[0m     eigenvectors[i], eigenvalues[i] \u001b[38;5;241m=\u001b[39m \u001b[43mpower_method\u001b[49m\u001b[43m(\u001b[49m\u001b[43mM\u001b[49m\u001b[43m,\u001b[49m\u001b[43m \u001b[49m\u001b[43mepsilon\u001b[49m\u001b[43m,\u001b[49m\u001b[43m \u001b[49m\u001b[43mmax_iter\u001b[49m\u001b[43m,\u001b[49m\u001b[43m \u001b[49m\u001b[43miteration\u001b[49m\u001b[43m \u001b[49m\u001b[38;5;241;43m=\u001b[39;49m\u001b[43m \u001b[49m\u001b[43mi\u001b[49m\u001b[38;5;241;43m+\u001b[39;49m\u001b[38;5;241;43m1\u001b[39;49m\u001b[43m)\u001b[49m \n\u001b[0;32m     44\u001b[0m     M \u001b[38;5;241m=\u001b[39m shifting_redirection(M, eigenvalues[i], eigenvectors[i])\n\u001b[0;32m     46\u001b[0m \u001b[38;5;28;01mreturn\u001b[39;00m(eigenvectors, eigenvalues)\n",
      "Cell \u001b[1;32mIn[8], line 25\u001b[0m, in \u001b[0;36mpower_method\u001b[1;34m(M, epsilon, max_iter, iteration)\u001b[0m\n\u001b[0;32m     22\u001b[0m count \u001b[38;5;241m=\u001b[39m \u001b[38;5;241m0\u001b[39m\n\u001b[0;32m     24\u001b[0m \u001b[38;5;66;03m# Compute eigenvector\u001b[39;00m\n\u001b[1;32m---> 25\u001b[0m \u001b[38;5;28;01mwhile\u001b[39;00m((np\u001b[38;5;241m.\u001b[39mlinalg\u001b[38;5;241m.\u001b[39mnorm(\u001b[43mx\u001b[49m\u001b[43m[\u001b[49m\u001b[43mcount\u001b[49m\u001b[43m]\u001b[49m\u001b[43m \u001b[49m\u001b[38;5;241;43m-\u001b[39;49m\u001b[43m \u001b[49m\u001b[43mx\u001b[49m\u001b[43m[\u001b[49m\u001b[43mcount\u001b[49m\u001b[38;5;241;43m-\u001b[39;49m\u001b[38;5;241;43m1\u001b[39;49m\u001b[43m]\u001b[49m) \u001b[38;5;241m>\u001b[39m epsilon) \u001b[38;5;129;01mand\u001b[39;00m (count \u001b[38;5;241m<\u001b[39m max_iter)):\n\u001b[0;32m     26\u001b[0m     \u001b[38;5;66;03m# Actual computations\u001b[39;00m\n\u001b[0;32m     27\u001b[0m     x[count\u001b[38;5;241m+\u001b[39m\u001b[38;5;241m1\u001b[39m] \u001b[38;5;241m=\u001b[39m np\u001b[38;5;241m.\u001b[39mmatmul(M, x[count]) \u001b[38;5;241m/\u001b[39m np\u001b[38;5;241m.\u001b[39mlinalg\u001b[38;5;241m.\u001b[39mnorm(np\u001b[38;5;241m.\u001b[39mmatmul(M, x[count]))\n\u001b[0;32m     28\u001b[0m     count \u001b[38;5;241m+\u001b[39m\u001b[38;5;241m=\u001b[39m \u001b[38;5;241m1\u001b[39m\n",
      "\u001b[1;31mTypeError\u001b[0m: unsupported operand type(s) for -: 'float' and 'NoneType'"
     ]
    }
   ],
   "source": [
    "# Example matrix\n",
    "M = np.array([[4, 1], \n",
    "              [2, 3]])\n",
    "\n",
    "# Compute eigenpairs\n",
    "eigenvectors, eigenvalues = eigenpairs(M)\n",
    "\n",
    "print(\"Eigenvalues:\", eigenvalues)\n",
    "print(\"Eigenvectors:\", eigenvectors)\n"
   ]
  },
  {
   "cell_type": "code",
   "execution_count": 10,
   "metadata": {},
   "outputs": [],
   "source": [
    "import numpy as np\n",
    "np.set_printoptions(suppress=True)\n",
    "import matplotlib.pyplot as plt"
   ]
  },
  {
   "cell_type": "code",
   "execution_count": 11,
   "metadata": {},
   "outputs": [
    {
     "name": "stdout",
     "output_type": "stream",
     "text": [
      "[[ 0.71312284  0.18564539 -0.41922938]\n",
      " [-1.75060237  0.67694226 -0.61706012]\n",
      " [-2.0085846   0.45285996  0.67457936]]\n"
     ]
    }
   ],
   "source": [
    "A = np.random.randn(3,3)\n",
    "print(A)"
   ]
  },
  {
   "cell_type": "code",
   "execution_count": 12,
   "metadata": {},
   "outputs": [
    {
     "name": "stdout",
     "output_type": "stream",
     "text": [
      "eigenvalues = [1.61460984+0.j         0.22501731+0.63683946j 0.22501731-0.63683946j]\n",
      "eigenvectors = \n",
      "[[ 0.39415293+0.j          0.1271097 -0.17202186j  0.1271097 +0.17202186j]\n",
      " [-0.13791782+0.j          0.85402423+0.j          0.85402423-0.j        ]\n",
      " [-0.90863752+0.j          0.26486287-0.39337245j  0.26486287+0.39337245j]]\n"
     ]
    }
   ],
   "source": [
    "w, v = np.linalg.eig(A)    # find eigenvalues and eigenvectors\n",
    "print(f'eigenvalues = {w}')    # each entry is an eigenvalue\n",
    "print(f'eigenvectors = \\n{v}')    # each column is the corresponding eigenvector"
   ]
  },
  {
   "cell_type": "code",
   "execution_count": 13,
   "metadata": {},
   "outputs": [
    {
     "name": "stdout",
     "output_type": "stream",
     "text": [
      "[[ 0.71312284-0.j  0.18564539+0.j -0.41922938+0.j]\n",
      " [-1.75060237-0.j  0.67694226+0.j -0.61706012-0.j]\n",
      " [-2.0085846 -0.j  0.45285996-0.j  0.67457936-0.j]]\n"
     ]
    }
   ],
   "source": [
    "D = np.diag(w)    # convert a vector to a diagonal matrix\n",
    "R = v\n",
    "A_decomp = np.dot(R, np.dot(D, np.linalg.inv(R)))    # decompose A into eigenmodes\n",
    "print(A_decomp)"
   ]
  },
  {
   "cell_type": "code",
   "execution_count": 15,
   "metadata": {},
   "outputs": [
    {
     "name": "stdout",
     "output_type": "stream",
     "text": [
      "[[ 0.71312284 -0.78247849 -1.21390699]\n",
      " [-0.78247849  0.67694226 -0.08210008]\n",
      " [-1.21390699 -0.08210008  0.67457936]]\n"
     ]
    }
   ],
   "source": [
    "As = (A + A.T) / 2    # construct a real symmetric matrix\n",
    "print(As)"
   ]
  },
  {
   "cell_type": "code",
   "execution_count": 16,
   "metadata": {},
   "outputs": [
    {
     "name": "stdout",
     "output_type": "stream",
     "text": [
      "eigenvalues = [-0.78889466  0.7510029   2.10253622]\n",
      "eigenvectors = \n",
      "[[ 0.69302619 -0.02278465  0.72055226]\n",
      " [ 0.40340834  0.8406188  -0.36141631]\n",
      " [ 0.59747503 -0.54114776 -0.59176236]]\n"
     ]
    }
   ],
   "source": [
    "w, v = np.linalg.eigh(As)    # find eigenvalues and eigenvectors of a Hermitian matrix\n",
    "print(f'eigenvalues = {w}')    # eigenvalues in ascending order\n",
    "print(f'eigenvectors = \\n{v}')    # each column is the corresponding eigenvector"
   ]
  },
  {
   "cell_type": "code",
   "execution_count": 17,
   "metadata": {},
   "outputs": [
    {
     "name": "stdout",
     "output_type": "stream",
     "text": [
      "[[ 0.71312284 -0.78247849 -1.21390699]\n",
      " [-0.78247849  0.67694226 -0.08210008]\n",
      " [-1.21390699 -0.08210008  0.67457936]]\n"
     ]
    }
   ],
   "source": [
    "D = np.diag(w)\n",
    "R = v\n",
    "A_decomp = np.dot(R, np.dot(D, R.T))\n",
    "print(A_decomp)"
   ]
  },
  {
   "cell_type": "code",
   "execution_count": null,
   "metadata": {},
   "outputs": [],
   "source": []
  }
 ],
 "metadata": {
  "kernelspec": {
   "display_name": "Python 3",
   "language": "python",
   "name": "python3"
  },
  "language_info": {
   "codemirror_mode": {
    "name": "ipython",
    "version": 3
   },
   "file_extension": ".py",
   "mimetype": "text/x-python",
   "name": "python",
   "nbconvert_exporter": "python",
   "pygments_lexer": "ipython3",
   "version": "3.12.7"
  }
 },
 "nbformat": 4,
 "nbformat_minor": 2
}
