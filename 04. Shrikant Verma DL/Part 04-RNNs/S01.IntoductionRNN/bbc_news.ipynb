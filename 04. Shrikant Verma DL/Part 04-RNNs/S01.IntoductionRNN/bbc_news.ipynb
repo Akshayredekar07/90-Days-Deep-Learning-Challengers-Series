{
 "cells": [
  {
   "cell_type": "code",
   "execution_count": 73,
   "metadata": {},
   "outputs": [],
   "source": [
    "import warnings\n",
    "warnings.filterwarnings(\"ignore\")\n",
    "\n",
    "import pandas as pd\n",
    "import numpy as np\n",
    "\n",
    "from IPython.display import Image\n",
    "from tqdm import tqdm\n",
    "\n",
    "from sklearn.preprocessing import LabelEncoder\n",
    "from sklearn.metrics import confusion_matrix, accuracy_score\n",
    "\n",
    "import re\n",
    "import matplotlib.pyplot as plt"
   ]
  },
  {
   "cell_type": "code",
   "execution_count": 74,
   "metadata": {},
   "outputs": [],
   "source": [
    "# !gdown 1POmzYEQZgZVqJO3F_cyNcd4QmoNE_mCv"
   ]
  },
  {
   "cell_type": "code",
   "execution_count": 75,
   "metadata": {},
   "outputs": [],
   "source": [
    "df = pd.read_csv('bbc-news-data.csv', encoding='utf-8', delimiter='\\t')"
   ]
  },
  {
   "cell_type": "code",
   "execution_count": 76,
   "metadata": {},
   "outputs": [
    {
     "data": {
      "text/html": [
       "<div>\n",
       "<style scoped>\n",
       "    .dataframe tbody tr th:only-of-type {\n",
       "        vertical-align: middle;\n",
       "    }\n",
       "\n",
       "    .dataframe tbody tr th {\n",
       "        vertical-align: top;\n",
       "    }\n",
       "\n",
       "    .dataframe thead th {\n",
       "        text-align: right;\n",
       "    }\n",
       "</style>\n",
       "<table border=\"1\" class=\"dataframe\">\n",
       "  <thead>\n",
       "    <tr style=\"text-align: right;\">\n",
       "      <th></th>\n",
       "      <th>category</th>\n",
       "      <th>filename</th>\n",
       "      <th>title</th>\n",
       "      <th>content</th>\n",
       "    </tr>\n",
       "  </thead>\n",
       "  <tbody>\n",
       "    <tr>\n",
       "      <th>0</th>\n",
       "      <td>business</td>\n",
       "      <td>001.txt</td>\n",
       "      <td>Ad sales boost Time Warner profit</td>\n",
       "      <td>Quarterly profits at US media giant TimeWarne...</td>\n",
       "    </tr>\n",
       "    <tr>\n",
       "      <th>1</th>\n",
       "      <td>business</td>\n",
       "      <td>002.txt</td>\n",
       "      <td>Dollar gains on Greenspan speech</td>\n",
       "      <td>The dollar has hit its highest level against ...</td>\n",
       "    </tr>\n",
       "    <tr>\n",
       "      <th>2</th>\n",
       "      <td>business</td>\n",
       "      <td>003.txt</td>\n",
       "      <td>Yukos unit buyer faces loan claim</td>\n",
       "      <td>The owners of embattled Russian oil giant Yuk...</td>\n",
       "    </tr>\n",
       "    <tr>\n",
       "      <th>3</th>\n",
       "      <td>business</td>\n",
       "      <td>004.txt</td>\n",
       "      <td>High fuel prices hit BA's profits</td>\n",
       "      <td>British Airways has blamed high fuel prices f...</td>\n",
       "    </tr>\n",
       "    <tr>\n",
       "      <th>4</th>\n",
       "      <td>business</td>\n",
       "      <td>005.txt</td>\n",
       "      <td>Pernod takeover talk lifts Domecq</td>\n",
       "      <td>Shares in UK drinks and food firm Allied Dome...</td>\n",
       "    </tr>\n",
       "  </tbody>\n",
       "</table>\n",
       "</div>"
      ],
      "text/plain": [
       "   category filename                              title  \\\n",
       "0  business  001.txt  Ad sales boost Time Warner profit   \n",
       "1  business  002.txt   Dollar gains on Greenspan speech   \n",
       "2  business  003.txt  Yukos unit buyer faces loan claim   \n",
       "3  business  004.txt  High fuel prices hit BA's profits   \n",
       "4  business  005.txt  Pernod takeover talk lifts Domecq   \n",
       "\n",
       "                                             content  \n",
       "0   Quarterly profits at US media giant TimeWarne...  \n",
       "1   The dollar has hit its highest level against ...  \n",
       "2   The owners of embattled Russian oil giant Yuk...  \n",
       "3   British Airways has blamed high fuel prices f...  \n",
       "4   Shares in UK drinks and food firm Allied Dome...  "
      ]
     },
     "execution_count": 76,
     "metadata": {},
     "output_type": "execute_result"
    }
   ],
   "source": [
    "df.head()"
   ]
  },
  {
   "cell_type": "code",
   "execution_count": 77,
   "metadata": {},
   "outputs": [
    {
     "name": "stdout",
     "output_type": "stream",
     "text": [
      "(2225, 4)\n"
     ]
    }
   ],
   "source": [
    "print(df.shape)"
   ]
  },
  {
   "cell_type": "code",
   "execution_count": 78,
   "metadata": {},
   "outputs": [
    {
     "name": "stdout",
     "output_type": "stream",
     "text": [
      "(2225, 4)\n"
     ]
    }
   ],
   "source": [
    "df = df[((~df.title.isnull()) & (~df.content.isnull()))].reset_index(drop=True)\n",
    "print(df.shape)"
   ]
  },
  {
   "cell_type": "code",
   "execution_count": 79,
   "metadata": {},
   "outputs": [
    {
     "data": {
      "text/html": [
       "<div>\n",
       "<style scoped>\n",
       "    .dataframe tbody tr th:only-of-type {\n",
       "        vertical-align: middle;\n",
       "    }\n",
       "\n",
       "    .dataframe tbody tr th {\n",
       "        vertical-align: top;\n",
       "    }\n",
       "\n",
       "    .dataframe thead th {\n",
       "        text-align: right;\n",
       "    }\n",
       "</style>\n",
       "<table border=\"1\" class=\"dataframe\">\n",
       "  <thead>\n",
       "    <tr style=\"text-align: right;\">\n",
       "      <th></th>\n",
       "      <th>category</th>\n",
       "      <th>filename</th>\n",
       "      <th>title</th>\n",
       "      <th>content</th>\n",
       "    </tr>\n",
       "  </thead>\n",
       "  <tbody>\n",
       "    <tr>\n",
       "      <th>2220</th>\n",
       "      <td>tech</td>\n",
       "      <td>397.txt</td>\n",
       "      <td>BT program to beat dialler scams</td>\n",
       "      <td>BT is introducing two initiatives to help bea...</td>\n",
       "    </tr>\n",
       "    <tr>\n",
       "      <th>2221</th>\n",
       "      <td>tech</td>\n",
       "      <td>398.txt</td>\n",
       "      <td>Spam e-mails tempt net shoppers</td>\n",
       "      <td>Computer users across the world continue to i...</td>\n",
       "    </tr>\n",
       "    <tr>\n",
       "      <th>2222</th>\n",
       "      <td>tech</td>\n",
       "      <td>399.txt</td>\n",
       "      <td>Be careful how you code</td>\n",
       "      <td>A new European directive could put software w...</td>\n",
       "    </tr>\n",
       "    <tr>\n",
       "      <th>2223</th>\n",
       "      <td>tech</td>\n",
       "      <td>400.txt</td>\n",
       "      <td>US cyber security chief resigns</td>\n",
       "      <td>The man making sure US computer networks are ...</td>\n",
       "    </tr>\n",
       "    <tr>\n",
       "      <th>2224</th>\n",
       "      <td>tech</td>\n",
       "      <td>401.txt</td>\n",
       "      <td>Losing yourself in online gaming</td>\n",
       "      <td>Online role playing games are time-consuming,...</td>\n",
       "    </tr>\n",
       "  </tbody>\n",
       "</table>\n",
       "</div>"
      ],
      "text/plain": [
       "     category filename                             title  \\\n",
       "2220     tech  397.txt  BT program to beat dialler scams   \n",
       "2221     tech  398.txt   Spam e-mails tempt net shoppers   \n",
       "2222     tech  399.txt           Be careful how you code   \n",
       "2223     tech  400.txt   US cyber security chief resigns   \n",
       "2224     tech  401.txt  Losing yourself in online gaming   \n",
       "\n",
       "                                                content  \n",
       "2220   BT is introducing two initiatives to help bea...  \n",
       "2221   Computer users across the world continue to i...  \n",
       "2222   A new European directive could put software w...  \n",
       "2223   The man making sure US computer networks are ...  \n",
       "2224   Online role playing games are time-consuming,...  "
      ]
     },
     "execution_count": 79,
     "metadata": {},
     "output_type": "execute_result"
    }
   ],
   "source": [
    "df.tail()"
   ]
  },
  {
   "cell_type": "code",
   "execution_count": 80,
   "metadata": {},
   "outputs": [
    {
     "data": {
      "text/plain": [
       "Text(0, 0.5, 'Count')"
      ]
     },
     "execution_count": 80,
     "metadata": {},
     "output_type": "execute_result"
    },
    {
     "data": {
      "image/png": "[encoded data removed]",
      "text/plain": [
       "<Figure size 640x480 with 1 Axes>"
      ]
     },
     "metadata": {},
     "output_type": "display_data"
    }
   ],
   "source": [
    "plt.bar(df.category.value_counts().index, df.category.value_counts().values, color='#FF5733')\n",
    "plt.title(\"Category distribution\")\n",
    "plt.xlabel(\"Category\")\n",
    "plt.ylabel(\"Count\")"
   ]
  },
  {
   "cell_type": "code",
   "execution_count": 81,
   "metadata": {},
   "outputs": [
    {
     "name": "stderr",
     "output_type": "stream",
     "text": [
      "[nltk_data] Downloading package stopwords to\n",
      "[nltk_data]     C:\\Users\\Admin\\AppData\\Roaming\\nltk_data...\n",
      "[nltk_data]   Package stopwords is already up-to-date!\n"
     ]
    }
   ],
   "source": [
    "from tensorflow.keras.preprocessing.sequence import pad_sequences\n",
    "from tensorflow.keras.layers import Dense, Embedding, Input, InputLayer, RNN, SimpleRNN, LSTM, GRU, TimeDistributed\n",
    "from tensorflow.keras.models import Model, Sequential\n",
    "from tensorflow.keras.callbacks import EarlyStopping\n",
    "from tensorflow.keras.preprocessing.text import Tokenizer\n",
    "from tensorflow.keras.preprocessing.sequence import pad_sequences\n",
    "import tensorflow as tf\n",
    "import string\n",
    "import nltk\n",
    "nltk.download('stopwords')\n",
    "from nltk.corpus import stopwords\n",
    "stop_words = stopwords.words('english')\n",
    "\n",
    "from sklearn.model_selection import train_test_split\n",
    "\n",
    "import matplotlib.pyplot as plt\n",
    "import seaborn as sns"
   ]
  },
  {
   "cell_type": "code",
   "execution_count": 82,
   "metadata": {},
   "outputs": [],
   "source": [
    "def data_cleaning(text):\n",
    "    # Lower the words in the sentence\n",
    "    cleaned = text.lower()\n",
    "    # Replace the full stop with a full stop and space\n",
    "    cleaned = cleaned.replace(\".\", \". \")\n",
    "    # Remove the stop words\n",
    "    tokens = [word for word in cleaned.split() if not word in stop_words]\n",
    "    # Remove the punctuations\n",
    "    tokens = [tok.translate(str.maketrans('', '', string.punctuation)) for tok in tokens]\n",
    "\n",
    "    # Joining the tokens back to form the sentence\n",
    "    cleaned = \" \".join(tokens)\n",
    "\n",
    "    # Remove any extra spaces\n",
    "    cleaned = cleaned.strip()\n",
    "\n",
    "    return cleaned"
   ]
  },
  {
   "cell_type": "code",
   "execution_count": 83,
   "metadata": {},
   "outputs": [],
   "source": [
    "import pandas as pd\n",
    "\n",
    "# Creating a sample DataFrame\n",
    "data = {\n",
    "    'name': ['Alice', 'Bob', 'Charlie'],\n",
    "    'age': [25, 30, 35],\n",
    "    'city': ['New York', 'Los Angeles', 'Chicago']\n",
    "}"
   ]
  },
  {
   "cell_type": "code",
   "execution_count": 84,
   "metadata": {},
   "outputs": [
    {
     "name": "stdout",
     "output_type": "stream",
     "text": [
      "      category filename                              title  \\\n",
      "0     business  001.txt  Ad sales boost Time Warner profit   \n",
      "1     business  002.txt   Dollar gains on Greenspan speech   \n",
      "2     business  003.txt  Yukos unit buyer faces loan claim   \n",
      "3     business  004.txt  High fuel prices hit BA's profits   \n",
      "4     business  005.txt  Pernod takeover talk lifts Domecq   \n",
      "...        ...      ...                                ...   \n",
      "2220      tech  397.txt   BT program to beat dialler scams   \n",
      "2221      tech  398.txt    Spam e-mails tempt net shoppers   \n",
      "2222      tech  399.txt            Be careful how you code   \n",
      "2223      tech  400.txt    US cyber security chief resigns   \n",
      "2224      tech  401.txt   Losing yourself in online gaming   \n",
      "\n",
      "                                                content  \n",
      "0      Quarterly profits at US media giant TimeWarne...  \n",
      "1      The dollar has hit its highest level against ...  \n",
      "2      The owners of embattled Russian oil giant Yuk...  \n",
      "3      British Airways has blamed high fuel prices f...  \n",
      "4      Shares in UK drinks and food firm Allied Dome...  \n",
      "...                                                 ...  \n",
      "2220   BT is introducing two initiatives to help bea...  \n",
      "2221   Computer users across the world continue to i...  \n",
      "2222   A new European directive could put software w...  \n",
      "2223   The man making sure US computer networks are ...  \n",
      "2224   Online role playing games are time-consuming,...  \n",
      "\n",
      "[2225 rows x 4 columns]\n"
     ]
    }
   ],
   "source": [
    "df1 = pd.DataFrame(data)\n",
    "print(df)"
   ]
  },
  {
   "cell_type": "code",
   "execution_count": 85,
   "metadata": {},
   "outputs": [
    {
     "name": "stdout",
     "output_type": "stream",
     "text": [
      "Index: 0\n",
      "Name: Alice\n",
      "Age: 25\n",
      "City: New York\n",
      "--------------------\n",
      "Index: 1\n",
      "Name: Bob\n",
      "Age: 30\n",
      "City: Los Angeles\n",
      "--------------------\n",
      "Index: 2\n",
      "Name: Charlie\n",
      "Age: 35\n",
      "City: Chicago\n",
      "--------------------\n"
     ]
    }
   ],
   "source": [
    "# Iterating over the rows using iterrows\n",
    "for index, row in df1.iterrows():\n",
    "    # Accessing individual columns of the row using column names\n",
    "    print(f\"Index: {index}\")\n",
    "    print(f\"Name: {row['name']}\")\n",
    "    print(f\"Age: {row['age']}\")\n",
    "    print(f\"City: {row['city']}\")\n",
    "    print('-' * 20)  # Separator for readability"
   ]
  },
  {
   "cell_type": "code",
   "execution_count": 86,
   "metadata": {},
   "outputs": [
    {
     "name": "stderr",
     "output_type": "stream",
     "text": [
      "100%|█████████████████████████████████████████████████████████████████| 2225/2225 [00:00<00:00, 5223.67it/s]\n"
     ]
    }
   ],
   "source": [
    "# Iterating over the rows of the DataFrame using iterrows\n",
    "# The 'total' argument in tqdm specifies the total number of iterations to show the progress bar\n",
    "for index, data in tqdm(df.iterrows(), total=df.shape[0]):\n",
    "    # Apply the data_cleaning function to the 'title' column of each row\n",
    "    # The cleaned title is assigned back to the DataFrame at the same index\n",
    "    df.loc[index, 'title'] = data_cleaning(data['title'])\n",
    "    # At this point, the 'title' column for the current row is updated with the cleaned text\n",
    "\n",
    "# The progress bar will show the completion percentage and estimated time for processing all rows\n"
   ]
  },
  {
   "cell_type": "code",
   "execution_count": 87,
   "metadata": {},
   "outputs": [
    {
     "data": {
      "text/plain": [
       "<Axes: ylabel='title'>"
      ]
     },
     "execution_count": 87,
     "metadata": {},
     "output_type": "execute_result"
    },
    {
     "data": {
      "image/png": "[encoded data removed]",
      "text/plain": [
       "<Figure size 640x480 with 1 Axes>"
      ]
     },
     "metadata": {},
     "output_type": "display_data"
    }
   ],
   "source": [
    "sns.boxplot(df['title'].str.split(\" \").str.len())"
   ]
  },
  {
   "cell_type": "markdown",
   "metadata": {},
   "source": [
    "The main application of a **box plot** is to **visualize the distribution of a dataset** and identify **outliers**, **median**, **quartiles**, and **variability** in a compact and easy-to-read format. It helps in comparing distributions across different categories or datasets."
   ]
  },
  {
   "cell_type": "code",
   "execution_count": 88,
   "metadata": {},
   "outputs": [
    {
     "name": "stdout",
     "output_type": "stream",
     "text": [
      "Maximum sequence length: 7\n",
      "Total classes: 5\n"
     ]
    }
   ],
   "source": [
    "# Find the maximum sentence length\n",
    "max_sentence_len = df['title'].str.split(\" \").str.len().max()\n",
    "total_classes = df.category.nunique()\n",
    "\n",
    "print(f\"Maximum sequence length: {max_sentence_len}\")\n",
    "print(f\"Total classes: {total_classes}\")"
   ]
  },
  {
   "cell_type": "markdown",
   "metadata": {},
   "source": [
    "Output:\n",
    "Maximum sequence length: 7\n",
    "Total classes: 5"
   ]
  },
  {
   "cell_type": "code",
   "execution_count": 89,
   "metadata": {},
   "outputs": [],
   "source": [
    "# Splitting the data to train and test\n",
    "np.random.seed(100)\n",
    "train_X, test_X, train_Y, test_Y = train_test_split(df['title'], \n",
    "                                                 df['category'], \n",
    "                                                 test_size=0.2, \n",
    "                                                 random_state=100)\n",
    "\n",
    "train_X = train_X.reset_index(drop=True)\n",
    "test_X = test_X.reset_index(drop=True)\n",
    "train_Y = train_Y.reset_index(drop=True)\n",
    "test_Y = test_Y.reset_index(drop=True)"
   ]
  },
  {
   "cell_type": "markdown",
   "metadata": {},
   "source": [
    "#### One hot Encode the labels"
   ]
  },
  {
   "cell_type": "code",
   "execution_count": 90,
   "metadata": {},
   "outputs": [],
   "source": [
    "train_Y = pd.get_dummies(train_Y).values\n",
    "test_Y = pd.get_dummies(test_Y).values"
   ]
  },
  {
   "cell_type": "code",
   "execution_count": 91,
   "metadata": {},
   "outputs": [
    {
     "name": "stdout",
     "output_type": "stream",
     "text": [
      "[[False False False  True False]\n",
      " [False False False  True False]\n",
      " [False False False  True False]\n",
      " ...\n",
      " [ True False False False False]\n",
      " [False False False False  True]\n",
      " [False False False  True False]]\n",
      "\n",
      " ~~~~~~~~~~~~~~~~~~~~~~~~~~~~~~~~\n",
      "[[False False False False  True]\n",
      " [False False False False  True]\n",
      " [False False False  True False]\n",
      " ...\n",
      " [False False  True False False]\n",
      " [ True False False False False]\n",
      " [False False  True False False]]\n"
     ]
    }
   ],
   "source": [
    "print(train_Y)\n",
    "print(\"\\n\", \"~\"*32)\n",
    "print(test_Y)"
   ]
  },
  {
   "cell_type": "code",
   "execution_count": 92,
   "metadata": {},
   "outputs": [],
   "source": [
    "# Get validation labels\n",
    "validation = test_Y.argmax(axis=1) \n",
    "# print(validation)"
   ]
  },
  {
   "cell_type": "markdown",
   "metadata": {},
   "source": [
    "#### Tokenize the input text and pad them"
   ]
  },
  {
   "cell_type": "code",
   "execution_count": 93,
   "metadata": {},
   "outputs": [],
   "source": [
    "from tensorflow.keras.preprocessing.text import Tokenizer\n",
    "from tensorflow.keras.preprocessing.sequence import pad_sequences\n",
    "\n",
    "# Function to tokenize and pad input text\n",
    "def tokenize_and_pad(input_text, max_length, tokenizer):\n",
    "    # Convert text into sequences of numbers based on the tokenizer\n",
    "    tokenized_sequences = tokenizer.texts_to_sequences(input_text)\n",
    "    # Pad the sequences to the specified max_length\n",
    "    padded_sequences = pad_sequences(tokenized_sequences, maxlen=max_length, padding='post')\n",
    "    return padded_sequences\n",
    "\n",
    "\n",
    "# Step 1: Initialize the tokenizer\n",
    "text_tokenizer = Tokenizer()\n",
    "# Step 2: Fit the tokenizer on training data\n",
    "text_tokenizer.fit_on_texts(train_X)\n",
    "\n",
    "# Step 3: Tokenize and pad training data\n",
    "train_padded_sequences = tokenize_and_pad(\n",
    "    input_text=train_X, \n",
    "    max_length=max_sentence_len, \n",
    "    tokenizer=text_tokenizer\n",
    ")\n",
    "\n",
    "# Step 4: Tokenize and pad test data\n",
    "test_padded_sequences = tokenize_and_pad(\n",
    "    input_text=test_X, \n",
    "    max_length=max_sentence_len, \n",
    "    tokenizer=text_tokenizer\n",
    ")"
   ]
  },
  {
   "cell_type": "code",
   "execution_count": 94,
   "metadata": {},
   "outputs": [
    {
     "name": "stdout",
     "output_type": "stream",
     "text": [
      "Overall text vocabulary size: 3360\n"
     ]
    }
   ],
   "source": [
    "# Step 5: Calculate the vocabulary size\n",
    "# Adding 1 because index 0 is reserved for padding\n",
    "vocabulary_size = len(text_tokenizer.word_index) + 1\n",
    "\n",
    "# Print the vocabulary size\n",
    "print(\"Overall text vocabulary size:\", vocabulary_size)"
   ]
  },
  {
   "cell_type": "code",
   "execution_count": 95,
   "metadata": {},
   "outputs": [],
   "source": [
    "# Latent dimension: Dimension of the weight matrix U, V, W\n",
    "latent_dim = 50\n",
    "# Embedding dimension: Dimension of the word embeddings at the embedding layer\n",
    "embedding_dim = 100"
   ]
  },
  {
   "cell_type": "code",
   "execution_count": 96,
   "metadata": {},
   "outputs": [],
   "source": [
    "# Set random seed for reproducibility\n",
    "seed = 56\n",
    "tf.random.set_seed(seed)\n",
    "np.random.seed(seed)"
   ]
  },
  {
   "cell_type": "code",
   "execution_count": 102,
   "metadata": {},
   "outputs": [
    {
     "name": "stdout",
     "output_type": "stream",
     "text": [
      "Vocabulary size: 3360\n",
      "Maximum sequence length: 7\n",
      "Number of classes: 5\n"
     ]
    }
   ],
   "source": [
    "print(\"Vocabulary size:\", vocabulary_size)  # Should be > 0\n",
    "print(\"Maximum sequence length:\", max_sentence_len)  # Should be > 0\n",
    "print(\"Number of classes:\", total_classes)  # Should be > 0\n"
   ]
  },
  {
   "cell_type": "code",
   "execution_count": 104,
   "metadata": {},
   "outputs": [
    {
     "data": {
      "text/html": [
       "<pre style=\"white-space:pre;overflow-x:auto;line-height:normal;font-family:Menlo,'DejaVu Sans Mono',consolas,'Courier New',monospace\"><span style=\"font-weight: bold\">Model: \"sequential_6\"</span>\n",
       "</pre>\n"
      ],
      "text/plain": [
       "\u001b[1mModel: \"sequential_6\"\u001b[0m\n"
      ]
     },
     "metadata": {},
     "output_type": "display_data"
    },
    {
     "data": {
      "text/html": [
       "<pre style=\"white-space:pre;overflow-x:auto;line-height:normal;font-family:Menlo,'DejaVu Sans Mono',consolas,'Courier New',monospace\">┏━━━━━━━━━━━━━━━━━━━━━━━━━━━━━━━━━━━━━━┳━━━━━━━━━━━━━━━━━━━━━━━━━━━━━┳━━━━━━━━━━━━━━━━━┓\n",
       "┃<span style=\"font-weight: bold\"> Layer (type)                         </span>┃<span style=\"font-weight: bold\"> Output Shape                </span>┃<span style=\"font-weight: bold\">         Param # </span>┃\n",
       "┡━━━━━━━━━━━━━━━━━━━━━━━━━━━━━━━━━━━━━━╇━━━━━━━━━━━━━━━━━━━━━━━━━━━━━╇━━━━━━━━━━━━━━━━━┩\n",
       "│ embedding_4 (<span style=\"color: #0087ff; text-decoration-color: #0087ff\">Embedding</span>)              │ (<span style=\"color: #00d7ff; text-decoration-color: #00d7ff\">None</span>, <span style=\"color: #00af00; text-decoration-color: #00af00\">7</span>, <span style=\"color: #00af00; text-decoration-color: #00af00\">100</span>)              │         <span style=\"color: #00af00; text-decoration-color: #00af00\">336,000</span> │\n",
       "├──────────────────────────────────────┼─────────────────────────────┼─────────────────┤\n",
       "│ simple_rnn_4 (<span style=\"color: #0087ff; text-decoration-color: #0087ff\">SimpleRNN</span>)             │ (<span style=\"color: #00d7ff; text-decoration-color: #00d7ff\">None</span>, <span style=\"color: #00af00; text-decoration-color: #00af00\">50</span>)                  │           <span style=\"color: #00af00; text-decoration-color: #00af00\">7,550</span> │\n",
       "├──────────────────────────────────────┼─────────────────────────────┼─────────────────┤\n",
       "│ dense_4 (<span style=\"color: #0087ff; text-decoration-color: #0087ff\">Dense</span>)                      │ (<span style=\"color: #00d7ff; text-decoration-color: #00d7ff\">None</span>, <span style=\"color: #00af00; text-decoration-color: #00af00\">5</span>)                   │             <span style=\"color: #00af00; text-decoration-color: #00af00\">255</span> │\n",
       "└──────────────────────────────────────┴─────────────────────────────┴─────────────────┘\n",
       "</pre>\n"
      ],
      "text/plain": [
       "┏━━━━━━━━━━━━━━━━━━━━━━━━━━━━━━━━━━━━━━┳━━━━━━━━━━━━━━━━━━━━━━━━━━━━━┳━━━━━━━━━━━━━━━━━┓\n",
       "┃\u001b[1m \u001b[0m\u001b[1mLayer (type)                        \u001b[0m\u001b[1m \u001b[0m┃\u001b[1m \u001b[0m\u001b[1mOutput Shape               \u001b[0m\u001b[1m \u001b[0m┃\u001b[1m \u001b[0m\u001b[1m        Param #\u001b[0m\u001b[1m \u001b[0m┃\n",
       "┡━━━━━━━━━━━━━━━━━━━━━━━━━━━━━━━━━━━━━━╇━━━━━━━━━━━━━━━━━━━━━━━━━━━━━╇━━━━━━━━━━━━━━━━━┩\n",
       "│ embedding_4 (\u001b[38;5;33mEmbedding\u001b[0m)              │ (\u001b[38;5;45mNone\u001b[0m, \u001b[38;5;34m7\u001b[0m, \u001b[38;5;34m100\u001b[0m)              │         \u001b[38;5;34m336,000\u001b[0m │\n",
       "├──────────────────────────────────────┼─────────────────────────────┼─────────────────┤\n",
       "│ simple_rnn_4 (\u001b[38;5;33mSimpleRNN\u001b[0m)             │ (\u001b[38;5;45mNone\u001b[0m, \u001b[38;5;34m50\u001b[0m)                  │           \u001b[38;5;34m7,550\u001b[0m │\n",
       "├──────────────────────────────────────┼─────────────────────────────┼─────────────────┤\n",
       "│ dense_4 (\u001b[38;5;33mDense\u001b[0m)                      │ (\u001b[38;5;45mNone\u001b[0m, \u001b[38;5;34m5\u001b[0m)                   │             \u001b[38;5;34m255\u001b[0m │\n",
       "└──────────────────────────────────────┴─────────────────────────────┴─────────────────┘\n"
      ]
     },
     "metadata": {},
     "output_type": "display_data"
    },
    {
     "data": {
      "text/html": [
       "<pre style=\"white-space:pre;overflow-x:auto;line-height:normal;font-family:Menlo,'DejaVu Sans Mono',consolas,'Courier New',monospace\"><span style=\"font-weight: bold\"> Total params: </span><span style=\"color: #00af00; text-decoration-color: #00af00\">343,805</span> (1.31 MB)\n",
       "</pre>\n"
      ],
      "text/plain": [
       "\u001b[1m Total params: \u001b[0m\u001b[38;5;34m343,805\u001b[0m (1.31 MB)\n"
      ]
     },
     "metadata": {},
     "output_type": "display_data"
    },
    {
     "data": {
      "text/html": [
       "<pre style=\"white-space:pre;overflow-x:auto;line-height:normal;font-family:Menlo,'DejaVu Sans Mono',consolas,'Courier New',monospace\"><span style=\"font-weight: bold\"> Trainable params: </span><span style=\"color: #00af00; text-decoration-color: #00af00\">343,805</span> (1.31 MB)\n",
       "</pre>\n"
      ],
      "text/plain": [
       "\u001b[1m Trainable params: \u001b[0m\u001b[38;5;34m343,805\u001b[0m (1.31 MB)\n"
      ]
     },
     "metadata": {},
     "output_type": "display_data"
    },
    {
     "data": {
      "text/html": [
       "<pre style=\"white-space:pre;overflow-x:auto;line-height:normal;font-family:Menlo,'DejaVu Sans Mono',consolas,'Courier New',monospace\"><span style=\"font-weight: bold\"> Non-trainable params: </span><span style=\"color: #00af00; text-decoration-color: #00af00\">0</span> (0.00 B)\n",
       "</pre>\n"
      ],
      "text/plain": [
       "\u001b[1m Non-trainable params: \u001b[0m\u001b[38;5;34m0\u001b[0m (0.00 B)\n"
      ]
     },
     "metadata": {},
     "output_type": "display_data"
    }
   ],
   "source": [
    "import tensorflow as tf\n",
    "import numpy as np\n",
    "from tensorflow.keras.models import Sequential\n",
    "from tensorflow.keras.layers import Embedding, SimpleRNN, Dense\n",
    "\n",
    "# Set random seed for reproducibility\n",
    "seed = 56\n",
    "tf.random.set_seed(seed)\n",
    "np.random.seed(seed)\n",
    "\n",
    "# # Parameters\n",
    "# vocabulary_size = 3360  # Vocabulary size\n",
    "# max_sentence_len = 7    # Maximum sequence length\n",
    "# total_classes = 5       # Number of output classes\n",
    "# latent_dim = 50         # Number of units in RNN\n",
    "# embedding_dim = 100     # Embedding dimension\n",
    "\n",
    "# Build the model\n",
    "model = Sequential()\n",
    "model.add(Embedding(input_dim=vocabulary_size, \n",
    "                    output_dim=embedding_dim, \n",
    "                    input_length=max_sentence_len, \n",
    "                    trainable=True))\n",
    "model.add(SimpleRNN(units=latent_dim, \n",
    "                    recurrent_dropout=0.2, \n",
    "                    return_sequences=False, \n",
    "                    activation='tanh'))\n",
    "model.add(Dense(units=total_classes, \n",
    "                activation='softmax'))\n",
    "\n",
    "# Manually build the model with input shape\n",
    "model.build(input_shape=(None, max_sentence_len))\n",
    "\n",
    "# Display the model summary\n",
    "model.summary()\n"
   ]
  },
  {
   "cell_type": "markdown",
   "metadata": {},
   "source": [
    "\n",
    "### **1. Embedding Layer**\n",
    "\n",
    "$$\n",
    "\\text{Params} = \\text{vocabulary\\_size} \\times \\text{embedding\\_dim}\n",
    "$$\n",
    "\n",
    "- **`vocabulary_size`**: The size of the vocabulary (number of unique words in the dataset, including padding and special tokens). In your case, this is 3360.\n",
    "- **`embedding_dim`**: The dimension of each word vector (how many features each word is represented by). In your case, this is 100.\n",
    "\n",
    "$$\n",
    "\\text{Params} = 3360 \\times 100 = 336,000\n",
    "$$\n",
    "\n",
    "These parameters are **trainable** because the embedding layer learns the representation of words during training.\n",
    "\n",
    "\n",
    "### **2. SimpleRNN Layer**\n",
    "\n",
    "$$\n",
    "\\text{Params} = (\\text{latent\\_dim} \\times (\\text{latent\\_dim} + \\text{input\\_dim} + 1))\n",
    "$$\n",
    "\n",
    "- **`latent_dim`**: The number of units (neurons) in the RNN layer, which controls the size of the hidden state. In your case, this is 50.\n",
    "- **`input_dim`**: The size of each timestep input, which equals the `embedding_dim` from the previous layer (100).\n",
    "- The **`+1`** accounts for the bias term in the RNN computation.\n",
    "\n",
    "$$\n",
    "\\text{Params} = 50 \\times (50 + 100 + 1) = 50 \\times 151 = 7,550\n",
    "$$\n",
    "\n",
    "These parameters are **trainable** because the RNN layer learns weights for input-to-hidden, hidden-to-hidden, and biases during training.\n",
    "\n",
    "\n",
    "### **3. Dense Layer**\n",
    "\n",
    "$$\n",
    "\\text{Params} = (\\text{units} \\times \\text{input\\_dim}) + \\text{units}\n",
    "$$\n",
    "\n",
    "- **`units`**: The number of output classes. In your case, this is 5 (for multi-class classification).\n",
    "- **`input_dim`**: The size of the input from the previous layer, which is the `latent_dim` (50).\n",
    "- The **`+ units`** accounts for the bias term in the Dense layer.\n",
    "\n",
    "$$\n",
    "\\text{Params} = (5 \\times 50) + 5 = 250 + 5 = 255\n",
    "$$\n",
    "\n",
    "These parameters are **trainable** because the Dense layer learns weights and biases during training.\n",
    "\n",
    "\n",
    "\n",
    "### **4. Total Parameters**\n",
    "\n",
    "$$\n",
    "\\text{Total Params} = \\text{Params from Embedding} + \\text{Params from SimpleRNN} + \\text{Params from Dense}\n",
    "$$\n",
    "\n",
    "$$\n",
    "\\text{Total Params} = 336,000 + 7,550 + 255 = 343,805\n",
    "$$\n",
    "\n",
    "\n",
    "\n",
    "### Final Breakdown:\n",
    "| **Layer**         | **Params**      | **Explanation**                                       |\n",
    "|--------------------|-----------------|-------------------------------------------------------|\n",
    "| **Embedding**      | 336,000         | $$3360 \\times 100$$|\n",
    "| **SimpleRNN**      | 7,550           | $$50 \\times (50 + 100 + 1)$$                     |\n",
    "| **Dense**          | 255             | $$(5 \\times 50) + 5$$                              |\n",
    "| **Total**          | 343,805         | Sum of all layers' parameters                        |\n",
    "\n",
    "\n",
    "#### Notes:\n",
    "1. **Trainable Parameters**:\n",
    "   - All the parameters in this model are **trainable**, meaning they will be updated during backpropagation.\n",
    "2. **Output Shapes**:\n",
    "   - **Embedding Layer**: Outputs a sequence of shape `(batch_size, 7, 100)`, where 7 is the max sequence length and 100 is the embedding dimension.\n",
    "   - **SimpleRNN Layer**: Outputs the final hidden state of shape `(batch_size, 50)`, where 50 is the latent dimension.\n",
    "   - **Dense Layer**: Outputs probabilities for 5 classes with shape `(batch_size, 5)`.\n"
   ]
  },
  {
   "cell_type": "code",
   "execution_count": 105,
   "metadata": {},
   "outputs": [],
   "source": [
    "# Compile the model\n",
    "model.compile(\n",
    "    optimizer='Adam', \n",
    "    loss='categorical_crossentropy', \n",
    "    metrics=['accuracy']\n",
    ")"
   ]
  },
  {
   "cell_type": "code",
   "execution_count": 106,
   "metadata": {},
   "outputs": [],
   "source": [
    "# Define early stopping callback\n",
    "early_stopping = EarlyStopping(\n",
    "    monitor='val_accuracy',  # Monitor validation accuracy\n",
    "    mode='max', \n",
    "    verbose=1, \n",
    "    patience=5  # Stop training if no improvement for 5 epochs\n",
    ")"
   ]
  },
  {
   "cell_type": "code",
   "execution_count": 109,
   "metadata": {},
   "outputs": [
    {
     "name": "stdout",
     "output_type": "stream",
     "text": [
      "Epoch 1/5\n",
      "\u001b[1m28/28\u001b[0m \u001b[32m━━━━━━━━━━━━━━━━━━━━\u001b[0m\u001b[37m\u001b[0m \u001b[1m0s\u001b[0m 11ms/step - accuracy: 0.9985 - loss: 0.0273 - val_accuracy: 0.6607 - val_loss: 1.6209\n",
      "Epoch 2/5\n",
      "\u001b[1m28/28\u001b[0m \u001b[32m━━━━━━━━━━━━━━━━━━━━\u001b[0m\u001b[37m\u001b[0m \u001b[1m0s\u001b[0m 8ms/step - accuracy: 0.9981 - loss: 0.0204 - val_accuracy: 0.6607 - val_loss: 1.6287\n",
      "Epoch 3/5\n",
      "\u001b[1m28/28\u001b[0m \u001b[32m━━━━━━━━━━━━━━━━━━━━\u001b[0m\u001b[37m\u001b[0m \u001b[1m0s\u001b[0m 8ms/step - accuracy: 0.9944 - loss: 0.0251 - val_accuracy: 0.6607 - val_loss: 1.6644\n",
      "Epoch 4/5\n",
      "\u001b[1m28/28\u001b[0m \u001b[32m━━━━━━━━━━━━━━━━━━━━\u001b[0m\u001b[37m\u001b[0m \u001b[1m0s\u001b[0m 7ms/step - accuracy: 1.0000 - loss: 0.0134 - val_accuracy: 0.6742 - val_loss: 1.6961\n",
      "Epoch 5/5\n",
      "\u001b[1m28/28\u001b[0m \u001b[32m━━━━━━━━━━━━━━━━━━━━\u001b[0m\u001b[37m\u001b[0m \u001b[1m0s\u001b[0m 8ms/step - accuracy: 0.9987 - loss: 0.0141 - val_accuracy: 0.6674 - val_loss: 1.7392\n",
      "Epoch 5: early stopping\n"
     ]
    }
   ],
   "source": [
    "# Train the model\n",
    "history = model.fit(\n",
    "    x=train_padded_sequences, y=train_Y, \n",
    "    validation_data=(test_padded_sequences, test_Y), \n",
    "    batch_size=64, epochs=5, \n",
    "    callbacks=[early_stopping]  # Apply early stopping\n",
    "    )"
   ]
  },
  {
   "cell_type": "code",
   "execution_count": 110,
   "metadata": {},
   "outputs": [
    {
     "name": "stdout",
     "output_type": "stream",
     "text": [
      "\u001b[1m14/14\u001b[0m \u001b[32m━━━━━━━━━━━━━━━━━━━━\u001b[0m\u001b[37m\u001b[0m \u001b[1m1s\u001b[0m 21ms/step\n"
     ]
    }
   ],
   "source": [
    "# Make predictions on the test dataset\n",
    "prediction = model.predict(test_padded_sequences)\n"
   ]
  },
  {
   "cell_type": "code",
   "execution_count": 111,
   "metadata": {},
   "outputs": [],
   "source": [
    "prediction = prediction.argmax(axis=1)"
   ]
  },
  {
   "cell_type": "code",
   "execution_count": 112,
   "metadata": {},
   "outputs": [
    {
     "name": "stdout",
     "output_type": "stream",
     "text": [
      "Accuracy: 0.6674157303370787\n"
     ]
    }
   ],
   "source": [
    "print(f\"Accuracy: {accuracy_score(prediction, validation)}\")"
   ]
  },
  {
   "cell_type": "code",
   "execution_count": 113,
   "metadata": {},
   "outputs": [],
   "source": [
    "cm = confusion_matrix(validation, prediction)"
   ]
  },
  {
   "cell_type": "code",
   "execution_count": 115,
   "metadata": {},
   "outputs": [
    {
     "data": {
      "text/plain": [
       "Text(0.5, 1.0, 'Confusion Matrix')"
      ]
     },
     "execution_count": 115,
     "metadata": {},
     "output_type": "execute_result"
    },
    {
     "data": {
      "image/png": "[encoded data removed]",
      "text/plain": [
       "<Figure size 800x800 with 2 Axes>"
      ]
     },
     "metadata": {},
     "output_type": "display_data"
    }
   ],
   "source": [
    "plt.figure(figsize=(8, 8))\n",
    "sns.heatmap(cm, annot=True, cmap=\"Oranges\")\n",
    "plt.xlabel(\"Prediction\")\n",
    "plt.ylabel(\"Actual\")\n",
    "plt.title(\"Confusion Matrix\")"
   ]
  },
  {
   "cell_type": "code",
   "execution_count": null,
   "metadata": {},
   "outputs": [],
   "source": []
  }
 ],
 "metadata": {
  "kernelspec": {
   "display_name": "Python 3 (ipykernel)",
   "language": "python",
   "name": "python3"
  },
  "language_info": {
   "codemirror_mode": {
    "name": "ipython",
    "version": 3
   },
   "file_extension": ".py",
   "mimetype": "text/x-python",
   "name": "python",
   "nbconvert_exporter": "python",
   "pygments_lexer": "ipython3",
   "version": "3.12.7"
  }
 },
 "nbformat": 4,
 "nbformat_minor": 4
}
