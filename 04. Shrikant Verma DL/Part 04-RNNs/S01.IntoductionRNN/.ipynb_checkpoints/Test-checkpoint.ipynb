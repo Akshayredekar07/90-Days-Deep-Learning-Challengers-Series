{
 "cells": [
  {
   "cell_type": "code",
   "execution_count": 2,
   "metadata": {},
   "outputs": [],
   "source": [
    "import pandas as pd\n",
    "import numpy as np\n",
    "\n",
    "from IPython.display import Image\n",
    "from tqdm import tqdm\n",
    "\n",
    "from sklearn.preprocessing import LabelEncoder\n",
    "from sklearn.metrics import confusion_matrix, accuracy_score\n",
    "\n",
    "import re\n",
    "import matplotlib.pyplot as plt"
   ]
  },
  {
   "cell_type": "code",
   "execution_count": 1,
   "metadata": {},
   "outputs": [
    {
     "name": "stderr",
     "output_type": "stream",
     "text": [
      "Downloading...\n",
      "From: https://drive.google.com/uc?id=1POmzYEQZgZVqJO3F_cyNcd4QmoNE_mCv\n",
      "To: d:\\DEEP LEARNING\\04. Shrikant Verma DL\\Part 04-RNNs\\S01.IntoductionRNN\\bbc-news-data.csv\n",
      "\n",
      "  0%|          | 0.00/5.08M [00:00<?, ?B/s]\n",
      " 10%|█         | 524k/5.08M [00:00<00:02, 1.61MB/s]\n",
      " 21%|██        | 1.05M/5.08M [00:00<00:02, 1.87MB/s]\n",
      " 31%|███       | 1.57M/5.08M [00:00<00:01, 1.98MB/s]\n",
      " 41%|████▏     | 2.10M/5.08M [00:01<00:01, 2.09MB/s]\n",
      " 52%|█████▏    | 2.62M/5.08M [00:01<00:00, 2.56MB/s]\n",
      " 72%|███████▏  | 3.67M/5.08M [00:01<00:00, 3.75MB/s]\n",
      " 93%|█████████▎| 4.72M/5.08M [00:01<00:00, 4.62MB/s]\n",
      "100%|██████████| 5.08M/5.08M [00:01<00:00, 3.19MB/s]\n"
     ]
    }
   ],
   "source": [
    "!gdown 1POmzYEQZgZVqJO3F_cyNcd4QmoNE_mCv"
   ]
  },
  {
   "cell_type": "code",
   "execution_count": null,
   "metadata": {},
   "outputs": [],
   "source": [
    "# df = pd.read_csv(\n",
    "#     'bbc-news-data.csv',\n",
    "#     skiprows=1,                  # Skip the first row\n",
    "#     nrows=100,                   # Read only the first 100 rows\n",
    "#     names=['ID', 'Category', 'Text', 'Date'],  # Custom column names\n",
    "#     dtype={'ID': int, 'Category': str},  # Define column data types\n",
    "#     na_values=['?', 'NA'],       # Treat '?' and 'NA' as missing values\n",
    "#     parse_dates=['Date'],        # Parse the 'Date' column as datetime\n",
    "#     encoding='utf-8'             # Use UTF-8 encoding\n",
    "# )\n"
   ]
  },
  {
   "cell_type": "code",
   "execution_count": 11,
   "metadata": {},
   "outputs": [
    {
     "data": {
      "text/html": [
       "<div>\n",
       "<style scoped>\n",
       "    .dataframe tbody tr th:only-of-type {\n",
       "        vertical-align: middle;\n",
       "    }\n",
       "\n",
       "    .dataframe tbody tr th {\n",
       "        vertical-align: top;\n",
       "    }\n",
       "\n",
       "    .dataframe thead th {\n",
       "        text-align: right;\n",
       "    }\n",
       "</style>\n",
       "<table border=\"1\" class=\"dataframe\">\n",
       "  <thead>\n",
       "    <tr style=\"text-align: right;\">\n",
       "      <th></th>\n",
       "      <th>category</th>\n",
       "      <th>filename</th>\n",
       "      <th>title</th>\n",
       "      <th>content</th>\n",
       "    </tr>\n",
       "  </thead>\n",
       "  <tbody>\n",
       "    <tr>\n",
       "      <th>0</th>\n",
       "      <td>business</td>\n",
       "      <td>001.txt</td>\n",
       "      <td>Ad sales boost Time Warner profit</td>\n",
       "      <td>Quarterly profits at US media giant TimeWarne...</td>\n",
       "    </tr>\n",
       "    <tr>\n",
       "      <th>1</th>\n",
       "      <td>business</td>\n",
       "      <td>002.txt</td>\n",
       "      <td>Dollar gains on Greenspan speech</td>\n",
       "      <td>The dollar has hit its highest level against ...</td>\n",
       "    </tr>\n",
       "    <tr>\n",
       "      <th>2</th>\n",
       "      <td>business</td>\n",
       "      <td>003.txt</td>\n",
       "      <td>Yukos unit buyer faces loan claim</td>\n",
       "      <td>The owners of embattled Russian oil giant Yuk...</td>\n",
       "    </tr>\n",
       "    <tr>\n",
       "      <th>3</th>\n",
       "      <td>business</td>\n",
       "      <td>004.txt</td>\n",
       "      <td>High fuel prices hit BA's profits</td>\n",
       "      <td>British Airways has blamed high fuel prices f...</td>\n",
       "    </tr>\n",
       "    <tr>\n",
       "      <th>4</th>\n",
       "      <td>business</td>\n",
       "      <td>005.txt</td>\n",
       "      <td>Pernod takeover talk lifts Domecq</td>\n",
       "      <td>Shares in UK drinks and food firm Allied Dome...</td>\n",
       "    </tr>\n",
       "    <tr>\n",
       "      <th>...</th>\n",
       "      <td>...</td>\n",
       "      <td>...</td>\n",
       "      <td>...</td>\n",
       "      <td>...</td>\n",
       "    </tr>\n",
       "    <tr>\n",
       "      <th>2220</th>\n",
       "      <td>tech</td>\n",
       "      <td>397.txt</td>\n",
       "      <td>BT program to beat dialler scams</td>\n",
       "      <td>BT is introducing two initiatives to help bea...</td>\n",
       "    </tr>\n",
       "    <tr>\n",
       "      <th>2221</th>\n",
       "      <td>tech</td>\n",
       "      <td>398.txt</td>\n",
       "      <td>Spam e-mails tempt net shoppers</td>\n",
       "      <td>Computer users across the world continue to i...</td>\n",
       "    </tr>\n",
       "    <tr>\n",
       "      <th>2222</th>\n",
       "      <td>tech</td>\n",
       "      <td>399.txt</td>\n",
       "      <td>Be careful how you code</td>\n",
       "      <td>A new European directive could put software w...</td>\n",
       "    </tr>\n",
       "    <tr>\n",
       "      <th>2223</th>\n",
       "      <td>tech</td>\n",
       "      <td>400.txt</td>\n",
       "      <td>US cyber security chief resigns</td>\n",
       "      <td>The man making sure US computer networks are ...</td>\n",
       "    </tr>\n",
       "    <tr>\n",
       "      <th>2224</th>\n",
       "      <td>tech</td>\n",
       "      <td>401.txt</td>\n",
       "      <td>Losing yourself in online gaming</td>\n",
       "      <td>Online role playing games are time-consuming,...</td>\n",
       "    </tr>\n",
       "  </tbody>\n",
       "</table>\n",
       "<p>2225 rows × 4 columns</p>\n",
       "</div>"
      ],
      "text/plain": [
       "      category filename                              title  \\\n",
       "0     business  001.txt  Ad sales boost Time Warner profit   \n",
       "1     business  002.txt   Dollar gains on Greenspan speech   \n",
       "2     business  003.txt  Yukos unit buyer faces loan claim   \n",
       "3     business  004.txt  High fuel prices hit BA's profits   \n",
       "4     business  005.txt  Pernod takeover talk lifts Domecq   \n",
       "...        ...      ...                                ...   \n",
       "2220      tech  397.txt   BT program to beat dialler scams   \n",
       "2221      tech  398.txt    Spam e-mails tempt net shoppers   \n",
       "2222      tech  399.txt            Be careful how you code   \n",
       "2223      tech  400.txt    US cyber security chief resigns   \n",
       "2224      tech  401.txt   Losing yourself in online gaming   \n",
       "\n",
       "                                                content  \n",
       "0      Quarterly profits at US media giant TimeWarne...  \n",
       "1      The dollar has hit its highest level against ...  \n",
       "2      The owners of embattled Russian oil giant Yuk...  \n",
       "3      British Airways has blamed high fuel prices f...  \n",
       "4      Shares in UK drinks and food firm Allied Dome...  \n",
       "...                                                 ...  \n",
       "2220   BT is introducing two initiatives to help bea...  \n",
       "2221   Computer users across the world continue to i...  \n",
       "2222   A new European directive could put software w...  \n",
       "2223   The man making sure US computer networks are ...  \n",
       "2224   Online role playing games are time-consuming,...  \n",
       "\n",
       "[2225 rows x 4 columns]"
      ]
     },
     "execution_count": 11,
     "metadata": {},
     "output_type": "execute_result"
    }
   ],
   "source": [
    "df = pd.read_csv('bbc-news-data.csv', encoding='utf-8', delimiter='\\t')\n",
    "df"
   ]
  },
  {
   "cell_type": "code",
   "execution_count": 12,
   "metadata": {},
   "outputs": [
    {
     "name": "stdout",
     "output_type": "stream",
     "text": [
      "(2225, 4)\n",
      "(2225, 4)\n"
     ]
    },
    {
     "data": {
      "text/html": [
       "<div>\n",
       "<style scoped>\n",
       "    .dataframe tbody tr th:only-of-type {\n",
       "        vertical-align: middle;\n",
       "    }\n",
       "\n",
       "    .dataframe tbody tr th {\n",
       "        vertical-align: top;\n",
       "    }\n",
       "\n",
       "    .dataframe thead th {\n",
       "        text-align: right;\n",
       "    }\n",
       "</style>\n",
       "<table border=\"1\" class=\"dataframe\">\n",
       "  <thead>\n",
       "    <tr style=\"text-align: right;\">\n",
       "      <th></th>\n",
       "      <th>category</th>\n",
       "      <th>filename</th>\n",
       "      <th>title</th>\n",
       "      <th>content</th>\n",
       "    </tr>\n",
       "  </thead>\n",
       "  <tbody>\n",
       "    <tr>\n",
       "      <th>0</th>\n",
       "      <td>business</td>\n",
       "      <td>001.txt</td>\n",
       "      <td>Ad sales boost Time Warner profit</td>\n",
       "      <td>Quarterly profits at US media giant TimeWarne...</td>\n",
       "    </tr>\n",
       "    <tr>\n",
       "      <th>1</th>\n",
       "      <td>business</td>\n",
       "      <td>002.txt</td>\n",
       "      <td>Dollar gains on Greenspan speech</td>\n",
       "      <td>The dollar has hit its highest level against ...</td>\n",
       "    </tr>\n",
       "    <tr>\n",
       "      <th>2</th>\n",
       "      <td>business</td>\n",
       "      <td>003.txt</td>\n",
       "      <td>Yukos unit buyer faces loan claim</td>\n",
       "      <td>The owners of embattled Russian oil giant Yuk...</td>\n",
       "    </tr>\n",
       "    <tr>\n",
       "      <th>3</th>\n",
       "      <td>business</td>\n",
       "      <td>004.txt</td>\n",
       "      <td>High fuel prices hit BA's profits</td>\n",
       "      <td>British Airways has blamed high fuel prices f...</td>\n",
       "    </tr>\n",
       "    <tr>\n",
       "      <th>4</th>\n",
       "      <td>business</td>\n",
       "      <td>005.txt</td>\n",
       "      <td>Pernod takeover talk lifts Domecq</td>\n",
       "      <td>Shares in UK drinks and food firm Allied Dome...</td>\n",
       "    </tr>\n",
       "    <tr>\n",
       "      <th>...</th>\n",
       "      <td>...</td>\n",
       "      <td>...</td>\n",
       "      <td>...</td>\n",
       "      <td>...</td>\n",
       "    </tr>\n",
       "    <tr>\n",
       "      <th>2220</th>\n",
       "      <td>tech</td>\n",
       "      <td>397.txt</td>\n",
       "      <td>BT program to beat dialler scams</td>\n",
       "      <td>BT is introducing two initiatives to help bea...</td>\n",
       "    </tr>\n",
       "    <tr>\n",
       "      <th>2221</th>\n",
       "      <td>tech</td>\n",
       "      <td>398.txt</td>\n",
       "      <td>Spam e-mails tempt net shoppers</td>\n",
       "      <td>Computer users across the world continue to i...</td>\n",
       "    </tr>\n",
       "    <tr>\n",
       "      <th>2222</th>\n",
       "      <td>tech</td>\n",
       "      <td>399.txt</td>\n",
       "      <td>Be careful how you code</td>\n",
       "      <td>A new European directive could put software w...</td>\n",
       "    </tr>\n",
       "    <tr>\n",
       "      <th>2223</th>\n",
       "      <td>tech</td>\n",
       "      <td>400.txt</td>\n",
       "      <td>US cyber security chief resigns</td>\n",
       "      <td>The man making sure US computer networks are ...</td>\n",
       "    </tr>\n",
       "    <tr>\n",
       "      <th>2224</th>\n",
       "      <td>tech</td>\n",
       "      <td>401.txt</td>\n",
       "      <td>Losing yourself in online gaming</td>\n",
       "      <td>Online role playing games are time-consuming,...</td>\n",
       "    </tr>\n",
       "  </tbody>\n",
       "</table>\n",
       "<p>2225 rows × 4 columns</p>\n",
       "</div>"
      ],
      "text/plain": [
       "      category filename                              title  \\\n",
       "0     business  001.txt  Ad sales boost Time Warner profit   \n",
       "1     business  002.txt   Dollar gains on Greenspan speech   \n",
       "2     business  003.txt  Yukos unit buyer faces loan claim   \n",
       "3     business  004.txt  High fuel prices hit BA's profits   \n",
       "4     business  005.txt  Pernod takeover talk lifts Domecq   \n",
       "...        ...      ...                                ...   \n",
       "2220      tech  397.txt   BT program to beat dialler scams   \n",
       "2221      tech  398.txt    Spam e-mails tempt net shoppers   \n",
       "2222      tech  399.txt            Be careful how you code   \n",
       "2223      tech  400.txt    US cyber security chief resigns   \n",
       "2224      tech  401.txt   Losing yourself in online gaming   \n",
       "\n",
       "                                                content  \n",
       "0      Quarterly profits at US media giant TimeWarne...  \n",
       "1      The dollar has hit its highest level against ...  \n",
       "2      The owners of embattled Russian oil giant Yuk...  \n",
       "3      British Airways has blamed high fuel prices f...  \n",
       "4      Shares in UK drinks and food firm Allied Dome...  \n",
       "...                                                 ...  \n",
       "2220   BT is introducing two initiatives to help bea...  \n",
       "2221   Computer users across the world continue to i...  \n",
       "2222   A new European directive could put software w...  \n",
       "2223   The man making sure US computer networks are ...  \n",
       "2224   Online role playing games are time-consuming,...  \n",
       "\n",
       "[2225 rows x 4 columns]"
      ]
     },
     "execution_count": 12,
     "metadata": {},
     "output_type": "execute_result"
    }
   ],
   "source": [
    "# Dropping the empty sub-title\n",
    "\"\"\"\n",
    "This script performs the following operations on a DataFrame `df`:\n",
    "1. Prints the initial shape of the DataFrame.\n",
    "2. Drops rows where either the 'title' or 'content' columns have null values.\n",
    "3. Resets the index of the DataFrame after dropping rows.\n",
    "4. Prints the shape of the DataFrame after dropping rows.\n",
    "5. Displays the resulting DataFrame.\n",
    "\"\"\"\n",
    "print(df.shape)\n",
    "\n",
    "df = df[((~df.title.isnull()) & (~df.content.isnull()))].reset_index(drop=True)\n",
    "print(df.shape)\n",
    "\n",
    "df"
   ]
  },
  {
   "cell_type": "code",
   "execution_count": 13,
   "metadata": {},
   "outputs": [
    {
     "data": {
      "text/plain": [
       "Text(0, 0.5, 'Count')"
      ]
     },
     "execution_count": 13,
     "metadata": {},
     "output_type": "execute_result"
    },
    {
     "data": {
      "image/png": "[encoded data removed]",
      "text/plain": [
       "<Figure size 640x480 with 1 Axes>"
      ]
     },
     "metadata": {},
     "output_type": "display_data"
    }
   ],
   "source": [
    "plt.bar(df.category.value_counts().index, df.category.value_counts().values)\n",
    "plt.title(\"Category distribution\")\n",
    "plt.xlabel(\"Category\")\n",
    "plt.ylabel(\"Count\")"
   ]
  },
  {
   "cell_type": "code",
   "execution_count": 15,
   "metadata": {},
   "outputs": [
    {
     "name": "stdout",
     "output_type": "stream",
     "text": [
      "Title: Federer joins all-time greats\n",
      "Category: sport\n"
     ]
    }
   ],
   "source": [
    "ind=1807\n",
    "print(f'Title: {df.title[ind]}')\n",
    "print(f'Category: {df.category[ind]}')"
   ]
  },
  {
   "cell_type": "markdown",
   "metadata": {},
   "source": [
    "#### Why MLP would not perform well for this problem?\n",
    "\n",
    "Before moving to MLP, let's understand what is temporal/Sequential data.\n",
    "\n",
    "**Temporal component:** Temporal means related to time. As we speak or write we do it in a sequence over time and it may not make sense when we change the order. Such type of data is called sequential/temporal data."
   ]
  },
  {
   "cell_type": "markdown",
   "metadata": {},
   "source": [
    "#### Multilayer Perceptron\n",
    "\n",
    "Let's first build a MultiLayer Perceptron to train a FeedForward NeuralNetwork to classify the given sentence into any of the 5 categories.\n",
    "\n",
    "For the sake of understanding let's look at one example\n",
    "\n",
    "**Example sentence:**\n",
    "\n",
    "Title: \"Federer joins all time greats\""
   ]
  },
  {
   "cell_type": "markdown",
   "metadata": {},
   "source": [
    "The words in the example can be thought of as an individual time step in the sequence.\n",
    "```plaintext\n",
    "t-4 t-3 ... ... t\n",
    "Federer joins all time greats\n",
    "Xt-4 Xt-3 ... ... Xt\n",
    "```"
   ]
  },
  {
   "cell_type": "markdown",
   "metadata": {},
   "source": [
    "<img src=\"image.png\" alt=\"Image\" style=\"width:50%;\">\n"
   ]
  },
  {
   "cell_type": "markdown",
   "metadata": {},
   "source": [
    "### What is missing in this architecture?\n",
    "\n",
    "* **All inputs at once:**\n",
    "\n",
    "    A simple Feed Forward NN type of architecture assumes that all the inputs(all words from the example) come from a single time steps t. But in reality we speak/write one word after the other so there is mechanism of word order this architecture.\n",
    "\n",
    "* **Inputs of varying length:**\n",
    "\n",
    "    A MLP architecture can handle only a fixed-size input. In the example \"Federer joins all time greats\" the input neurons required are 5. If we have another input \"Nadal won the Australian open this year\", this example requires 7 input neurons.\n",
    "\n",
    "### Can we modify this architecture a bit to solve the above said problems?\n",
    "\n",
    "* **Pass each word at each timestep**\n",
    "\n",
    "    In the modified MLP architecture we will reuse the same set of weights and pass each words at a timestep from t-n to t. By doing this we are able to pass each word sequentially to the model instead of all at once.    "
   ]
  },
  {
   "cell_type": "markdown",
   "metadata": {},
   "source": [
    "<img src=\"image1.png\" alt=\"Image\" style=\"width:50%;\">\n"
   ]
  },
  {
   "cell_type": "markdown",
   "metadata": {},
   "source": [
    "### Is there something still missing? Yes!!!\n",
    "\n",
    "Language makes sense only when spoken in an order and the current word depends on the previous words spoken/written\n",
    "\n",
    "Let's look at a simple example where you will have to fill in the last word\n",
    "\n",
    "**Fill the last word**\n",
    "\n",
    "Scenario 1: _______\n",
    "\n",
    "Scenario 2: Sachin Tendulkar is a _______\n",
    "\n",
    "Answer: Sachin Tendulkar is a **cricketer**\n",
    "\n",
    "In Scenario 1, without having access to the previous words it is literally impossible to fill the blank as cricketer. However in scenario 2 it's easy to fill because we know the context of what are the previous words."
   ]
  },
  {
   "cell_type": "markdown",
   "metadata": {},
   "source": [
    "* **No connection from previous input words**\n",
    "\n",
    "    As we pass one word at a time step t, the final output \"sports\" is not only a function of the last word \"greats\" passed at time t. But it also depends on the other words \"Federer joins all time\" as well which are passed from time steps tn-6 tn-1"
   ]
  },
  {
   "cell_type": "markdown",
   "metadata": {},
   "source": [
    "* **Each word is isolated from the other**\n",
    "\n",
    "    Even after passing data sequentially by reusing the MLP architecture again and again for each time step, each of the input is still isolated and independent from each other\n",
    "\n",
    "**What is missing in this modified architecture?**\n",
    "\n",
    "* **No Temporal component:**\n",
    "\n",
    "    The temporal component is missing here. Since the MLP model assumes the entire input from X1 to x₁ comes all at once instead of one after the other at each time step"
   ]
  },
  {
   "cell_type": "markdown",
   "metadata": {},
   "source": [
    "### Let's summarize the problems\n",
    "\n",
    "* All input passed at once\n",
    "* Can't handle varying length inputs\n",
    "* No Temporal connections in the modified MLP\n",
    "\n",
    "### Can we overcome all these?\n",
    "\n",
    "Yes!!! RNN comes for the rescue"
   ]
  },
  {
   "cell_type": "markdown",
   "metadata": {},
   "source": [
    "What we need is an architecture where the current input at time t is processed along with all the prior inputs from t-n to t-1.\n",
    "\n",
    "To achieve this we will introduce a memory(hidden) state h. This memory state will carry the information from the previous time step to the current time step in a recursive manner. So the information is processed together at the current time step.\n",
    "\n",
    "Because of this recurrence relation the output is going to be a function of input at the current time step along with the inputs from previous time steps\n",
    "\n",
    "$$ O_t = f(x_t, h_{t-1})$$"
   ]
  },
  {
   "cell_type": "markdown",
   "metadata": {
    "vscode": {
     "languageId": "html"
    }
   },
   "source": [
    "<img src=\"image2.png\" alt=\"Image\" style=\"width:20%;\">\n"
   ]
  },
  {
   "cell_type": "markdown",
   "metadata": {},
   "source": [
    "### **What are RNNs**"
   ]
  },
  {
   "cell_type": "markdown",
   "metadata": {},
   "source": [
    "### When to use them?\n",
    "\n",
    "When we are dealing with sequential data. In other terms when we have a temporal component associated to it and the data makes sense only when followed a sequence.\n",
    "\n",
    "**Sequence:** Federer joins all time greats\n",
    "\n",
    "**No sequence:** all Federer greats time joins\n",
    "\n",
    "**Example Data:** Time series data(stock price, Weather data), Genomic data, Language texts.\n",
    "\n",
    "A noteable difference of RNN is how we use the hiddent state (hₜ₋₁) from the previous time step input(Xₜ₋₁) as one of the input for the current time step(t) along with the input (Xₜ)\n",
    "\n",
    "#### Advantages\n",
    "\n",
    "* **All inputs at once:**\n",
    "\n",
    "    A simple Feed Forward NN type of architecture assumes that all the inputs(all words from the example) come from a single time steps t. But in reality we speak/write one word after the other so there is mechanism of word order in this architecture.\n",
    "\n",
    "* **Inputs of varying length:**\n",
    "\n",
    "    A simple MLP architecture can handle only a fixed-size input. But RNNs can accommodate variable size input since we are reusing the same RNN unit again and again. In the example \"Federer joins all time greats\" which is 5 word long can also be passed to the same RNN unit with another example \"Nadal won the Australian open this year\" which is 7 words long.\n",
    "\n",
    "* **Weight sharing:**\n",
    "\n",
    "    RNN is a single unit cells used at every time step. Due to the nature of reusability the weights are shared across all the inputs. This also helps in reduced computation compared to a MLP architecture."
   ]
  },
  {
   "cell_type": "markdown",
   "metadata": {},
   "source": [
    "<img src=\"image3.png\" alt=\"Image\">\n"
   ]
  },
  {
   "cell_type": "markdown",
   "metadata": {},
   "source": [
    "### **What are the different types of RNN?**\n",
    "\n",
    "**Types of input & output**\n",
    "\n",
    "There are couple of variants of RNN based on the number of inputs and the outputs."
   ]
  },
  {
   "cell_type": "markdown",
   "metadata": {
    "vscode": {
     "languageId": "html"
    }
   },
   "source": [
    "<img src=\"image4.png\" alt=\"Image\">\n"
   ]
  },
  {
   "cell_type": "markdown",
   "metadata": {},
   "source": [
    "**One to One:** T<sub>x</sub>=1, T<sub>y</sub>=1\n",
    "\n",
    "**Example:** Normal Feedforward Neural Network"
   ]
  },
  {
   "cell_type": "markdown",
   "metadata": {},
   "source": [
    "**Many to One:** T<sub>x</sub>>1, T<sub>y</sub>=1\n",
    "\n",
    "**Example:** Sentiment classification\n",
    "\n",
    "Sentiment classification is a task of passing a phrase or sentence about a movie review to the model and output if the sentiment is positive or negative.\n",
    "\n",
    "**Many to Many:** T<sub>x</sub>>1, T<sub>y</sub>>1, T<sub>x</sub>!=T<sub>y</sub>\n",
    "\n",
    "**Example:** Language translation\n",
    "\n",
    "Language translation is the task of inputting text to a model in one language and predict the same text in another language of interest(Google translator).\n",
    "\n",
    "**Many to Many:** T<sub>x</sub>>1, T<sub>y</sub>>1, T<sub>x</sub>=T<sub>y</sub>\n",
    "\n",
    "**Example:** Named Entity Recognition\n",
    "\n",
    "Name entity recognition is a task of automatically identifying keywords in the text. The keywords could be the name of the person, name of a company, city, phone number, email etc from the given text."
   ]
  },
  {
   "cell_type": "markdown",
   "metadata": {},
   "source": [
    "https://colah.github.io/posts/2015-08-Understanding-LSTMs/"
   ]
  },
  {
   "cell_type": "markdown",
   "metadata": {
    "vscode": {
     "languageId": "html"
    }
   },
   "source": [
    "<img src=\"image5.png\" alt=\"Image\" style=\"width:50%;\">\n"
   ]
  },
  {
   "cell_type": "markdown",
   "metadata": {},
   "source": [
    "**Xt:**\n",
    "\n",
    "Xₜ is the input at time step t. In our example above \"Federer joins all time greats\" each word is passed at a time.\n",
    "Note: When we say we pass each word to the network we first convert each words to a vector representation of defined length and then pass it to the RNN unit.\n",
    "\n",
    "**ht-1**\n",
    "\n",
    "Hidden state from the previous time step which is vector representation of the information from previous time steps\n",
    "Note: When we are passing the first input the hidden states are initialized to all zeros\n",
    "\n",
    "**tanh:**\n",
    "\n",
    "The input from the current time step t and the hidden state from the previous time step t-1 are combined (addition) together and a non-linear activation function is applied. In case of Vanilla RNN it is the tanh\n",
    "\n",
    "**ht**\n",
    "\n",
    "Hiddent state from the current time step t. This state is updated at everytime step which is a function of the input at current time step t and the previous hidden state hₜ₋₁\n"
   ]
  },
  {
   "cell_type": "markdown",
   "metadata": {},
   "source": [
    "**Oₜ** \n",
    "\n",
    "Oₜ is the output of RNN. It can be single or multi output based on the use case. Also based on the use cases we can get output at everytime step or only at the last time step."
   ]
  },
  {
   "cell_type": "markdown",
   "metadata": {},
   "source": [
    "**But do we pass the words as is to the RNN cell?**\n",
    "\n",
    "No we don't, We all know machines can't understand text but only numbers\n",
    "\n",
    "Then, How the do we convert the text to numbers? Let's understand with an example.\n",
    "\n",
    "There are 2 ways this can be done\n",
    "\n",
    "1. Using pre-trained word embeddings like Word2Vec, Glove, ELMO etc.\n",
    "2. Learning the embeddings while training the LSTM model"
   ]
  },
  {
   "cell_type": "markdown",
   "metadata": {},
   "source": [
    "**Example sentence 1:** \"the cat sat on the same wall the rat sat\"\n",
    "\n",
    "**Example sentence 2:** \"the cat likes milk\"\n",
    "\n",
    "**Method 1**\n",
    "\n",
    "* For the above 2 example sentences we convert each word to vectors using the pretrained embedding and then pass them to the RNN cell.\n",
    "* We can set the trainable method to False if we don't want to fine-tune these embeddings while training.\n",
    "* We can choose the dimension of the word embedding for these pretrained word embedding models."
   ]
  },
  {
   "cell_type": "markdown",
   "metadata": {},
   "source": [
    "**Method 2**\n",
    "\n",
    "* First we create a vocabulary of all unique words in the dataset\n",
    "* For the above sentences the vocabulary size is 9 and we assign index to each word.\n",
    "\n",
    "{cat:0, likes:1, milk:2, on:3, rat:4, same:5, sat:6, the:7, wall:8}\n",
    "\n",
    "* There is a embedding layer of said dimension before passing it to the RNN cell\n",
    "* The word embeddings are assigned to each word indexes i.e 0 to 8"
   ]
  },
  {
   "cell_type": "markdown",
   "metadata": {},
   "source": [
    "* The word embeddings are randomly initialized in the embedding layer for the given dimension and is learnt during the training process by setting trainable=True\n",
    "\n",
    "Let's say we choose embedding dimension as 3 then embedding vector for each word would look like\n",
    "\n",
    "    cat(0) = [0.2, 0.64, 0.4]\n",
    "    likes(1) = [0.7, 0.34, 0.4]\n",
    "    milk(2) = [0.6, 0.5, 0.23]\n",
    "    on(3) = [0.1, 0.2, 0.04]\n",
    "    rat(4) = [0.94, 0.8, 0.9]\n",
    "    same(5) = [0.45, 0.23, 0.26]\n",
    "    sat(6) = [0.78, 0.9, 0.5]\n",
    "    the(7) = [0.25, 0.16, 0.2]\n",
    "    wall(8) = [0.11, 0.93, 0.01]"
   ]
  },
  {
   "cell_type": "markdown",
   "metadata": {},
   "source": [
    "**Note:** The embedding dimensions could be of any size. The most commonly used dimensions are 100 to 300.\n",
    "\n",
    "## What is being learnt?\n",
    "\n",
    "* Similar to the MLP architecture we have weight matrices in RNN which are learnt during the training\n",
    "\n",
    "    * **W<sub>hx</sub>:** The weight matrix at the input\n",
    "    * **W<sub>hh</sub>:** The weight matrix at the hidden state\n",
    "    * **W<sub>hy</sub>:** The weight matrix at the output\n",
    "\n",
    "* **Note:** The same set of weights will be applied at each time steps during the training."
   ]
  },
  {
   "cell_type": "markdown",
   "metadata": {},
   "source": [
    "<img src=\"image6.png\" alt=\"Image\" style=\"width:100%;\">\n",
    "<img src=\"image7.png\" alt=\"Image\" style=\"width:100%;\">\n",
    "\n"
   ]
  },
  {
   "cell_type": "markdown",
   "metadata": {},
   "source": [
    "### How Forward Propagation works in RNN?"
   ]
  },
  {
   "cell_type": "markdown",
   "metadata": {},
   "source": [
    "<img src=\"image8.png\" alt=\"Image\" style=\"width:100%;\">"
   ]
  },
  {
   "cell_type": "markdown",
   "metadata": {},
   "source": [
    "### Steps in Forward Propagation\n",
    "\n",
    "For each word in the input:\n",
    "\n",
    "1. Multiply previous hidden state with weight matrix W\n",
    "2. Multiply input word with weight matrix U\n",
    "3. Add 1. and 2. and bias\n",
    "4. Apply the Non-Linear Activation Function (tanh)\n",
    "    * i. A copy of 4. is multiplied with weight matrix V\n",
    "    * ii. Add bias to 4i. and apply the non-Linear Activation function(based on usecase)\n",
    "    * iii. Calculate Loss (based on usecase)\n",
    "5. A copy of 4. is passed as hidden state to the next time step\n",
    "\n",
    "**The above steps can be mathematically generalized as**\n",
    "\n",
    "Z<sub>ht</sub> = UX<sub>t</sub> + Wh<sub>t-1</sub> + b<sub>h</sub>\n",
    "\n",
    "h<sub>t</sub> = σ<sub>h</sub>(Z<sub>ht</sub>)\n",
    "\n",
    "Z<sub>yt</sub> = V<sup>T</sup>h<sub>t</sub> + b<sub>y</sub>\n",
    "\n",
    "O<sub>t</sub> = σ<sub>y</sub>(Z<sub>yt</sub>)\n",
    "\n",
    "L = L(O<sub>t</sub>, Y<sub>t</sub>)\n",
    "\n",
    "## Backward propagation"
   ]
  },
  {
   "cell_type": "markdown",
   "metadata": {},
   "source": [
    "<img src=\"image9.png\" alt=\"Image\" style=\"width:100%;\">"
   ]
  },
  {
   "cell_type": "markdown",
   "metadata": {},
   "source": [
    "## Usual steps involved in updating parameter weights:\n",
    "* Calculate the gradients of the loss with respect to the parameters\n",
    "* Multiply it with the Learning rate\n",
    "* Update the new weights\n",
    "\n",
    "**Equations:**\n",
    "\n",
    "$$ V = V - \\alpha \\frac{\\partial L}{\\partial V} $$\n",
    "\n",
    "$$ W = W - \\alpha \\frac{\\partial L}{\\partial W} $$\n",
    "\n",
    "$$ U = U - \\alpha \\frac{\\partial L}{\\partial U} $$\n",
    "\n",
    "$\\alpha$ = Learning rate\n"
   ]
  },
  {
   "cell_type": "markdown",
   "metadata": {},
   "source": [
    "<img src=\"image11.png\" alt=\"Image\" style=\"width:100%;\">"
   ]
  },
  {
   "cell_type": "markdown",
   "metadata": {},
   "source": [
    "**Backpropagation Through Time (BPTT) vs. Regular Backpropagation**\n",
    "\n",
    "**Key Differences:**\n",
    "\n",
    "1. **Shared Weights:**\n",
    "   - In traditional Multi-Layer Perceptrons (MLPs), each layer has its own distinct set of weights.\n",
    "   - In Recurrent Neural Networks (RNNs), the same weight matrices are reused at every time step.\n",
    "\n",
    "2. **Gradient Calculation:**\n",
    "   - In MLPs, backpropagation calculates gradients layer by layer, updating weights based on the errors at each layer.\n",
    "   - In BPTT, gradients are calculated across all time steps, accumulating the error signals to make a single update to the shared weights.\n",
    "\n",
    "**In Essence:**\n",
    "\n",
    "BPTT extends the concept of backpropagation to handle the sequential nature of RNNs. It accounts for the shared weights and calculates gradients by \"unfolding\" the RNN over time, effectively treating it as a very deep neural network.\n"
   ]
  },
  {
   "cell_type": "markdown",
   "metadata": {},
   "source": [
    "## Loss function\n",
    "\n",
    "**What is a Loss function and why we need?**\n",
    "\n",
    "* The Loss function helps to determine how good or bad the model is performing comparing it with the actual output.\n",
    "* These are many loss functions based on the problem we are solving and the most commonly used loss metrics are\n",
    "    * Regression: RMSE, MSE, SSE\n",
    "    * Binary classification: Binary cross-entrophy loss\n",
    "    * Multiclass classification: Multiclass cross-entrophy loss\n",
    "\n",
    "**What Loss function should we use?**\n",
    "\n",
    "Since we are solving a Multiclass classification problem, Multiclass cross-entrophy loss is the right"
   ]
  },
  {
   "cell_type": "markdown",
   "metadata": {},
   "source": [
    "$$L_{t}=-Y \\log(O_{t})$$\n",
    "\n",
    "### **Optimizing with respect to V**\n",
    "\n",
    "* As a first step we need to calculate the gradients of the loss Lₜ at time t with respect to the weight matrix V\n",
    "* As we go through the path we see that Oₜ depends on Zₜ to reach V and will make use of the chain rule to calculate the gradients. \n",
    "\n",
    "$$\\frac{\\partial{L_t}}{\\partial{V}} = \\frac{\\partial{L_t}}{\\partial{O_t}} * \\frac{\\partial{O_t}}{\\partial{Z_t}} * \\frac{\\partial{Z_t}}{\\partial{V}}$$"
   ]
  },
  {
   "cell_type": "markdown",
   "metadata": {},
   "source": [
    "#### **Update the weight matrix V**\n",
    "\n",
    "$$V = V - α ∂Lₜ/∂V$$"
   ]
  },
  {
   "cell_type": "markdown",
   "metadata": {},
   "source": [
    "## Optimizing with respect to W\n",
    "\n",
    "* As a first step we need to calculate the gradients of the loss Lₜ at time t with respect to the weight matrix W\n",
    "* As we go through the path we see that hₜ depends on W and hₜ₋₁ directly. But hₜ₋₁ indirectly depends on W.\n",
    "* When we look at hₜ₋₁, it directly depends on W and hₜ₋₂. But hₜ₋₂ indirectly depends on W.\n",
    "* This keeps chaining due to the dependencies on time and we can calculate the gradients with respect to each time step using the chain rule in calculus\n",
    "* A very important thing to note here is the weight matrix W is common across all the time steps"
   ]
  },
  {
   "cell_type": "markdown",
   "metadata": {},
   "source": [
    "\n",
    "**General Formula:**\n",
    "\n",
    "\n",
    "\\frac{\\partial{L_t}}{\\partial{W}} = \\frac{\\partial{L_t}}{\\partial{O_t}} * \\frac{\\partial{O_t}}{\\partial{Z_t}} * \\frac{\\partial{Z_t}}{\\partial{h_t}} * \\frac{\\partial{h_t}}{\\partial{W}}\n",
    "\n",
    "\n",
    "**Gradients of loss with respect to W at different t:**\n",
    "\n",
    "\\frac{\\partial{L_t}}{\\partial{W}} = \\frac{\\partial{L_t}}{\\partial{h_t}} * \\frac{\\partial{h_t}}{\\partial{W}} + \\frac{\\partial{L_t}}{\\partial{h_{t-1}}} * \\frac{\\partial{h_{t-1}}}{\\partial{h_t}} * \\frac{\\partial{h_t}}{\\partial{W}}\n",
    "\n",
    "\\frac{\\partial{L_t}}{\\partial{W}} = \\frac{\\partial{L_t}}{\\partial{h_{t-1}}} * \\frac{\\partial{h_{t-1}}}{\\partial{W}} + \\frac{\\partial{L_t}}{\\partial{h_{t-2}}} * \\frac{\\partial{h_{t-2}}}{\\partial{h_{t-1}}} * \\frac{\\partial{h_{t-1}}}{\\partial{W}}\n",
    "\n",
    "\\frac{\\partial{L_t}}{\\partial{W}} = \\frac{\\partial{L_t}}{\\partial{h_{t-2}}} * \\frac{\\partial{h_{t-2}}}{\\partial{W}} + \\frac{\\partial{L_t}}{\\partial{h_{t-3}}} * \\frac{\\partial{h_{t-3}}}{\\partial{h_{t-2}}} * \\frac{\\partial{h_{t-2}}}{\\partial{W}}\n",
    "\n",
    "\\frac{\\partial{L_t}}{\\partial{W}} = \\frac{\\partial{L_t}}{\\partial{h_{t-3}}} * \\frac{\\partial{h_{t-3}}}{\\partial{W}} + \\frac{\\partial{L_t}}{\\partial{h_{t-4}}} * \\frac{\\partial{h_{t-4}}}{\\partial{h_{t-3}}} * \\frac{\\partial{h_{t-3}}}{\\partial{W}}\n",
    "\n",
    "\\frac{\\partial{L_t}}{\\partial{W}} = \\frac{\\partial{L_t}}{\\partial{h_{t-4}}} * \\frac{\\partial{h_{t-4}}}{\\partial{W}} + \\frac{\\partial{L_t}}{\\partial{h_{t-5}}} * \\frac{\\partial{h_{t-5}}}{\\partial{h_{t-4}}} * \\frac{\\partial{h_{t-4}}}{\\partial{W}}\n",
    "\n"
   ]
  }
 ],
 "metadata": {
  "kernelspec": {
   "display_name": "Python 3",
   "language": "python",
   "name": "python3"
  },
  "language_info": {
   "codemirror_mode": {
    "name": "ipython",
    "version": 3
   },
   "file_extension": ".py",
   "mimetype": "text/x-python",
   "name": "python",
   "nbconvert_exporter": "python",
   "pygments_lexer": "ipython3",
   "version": "3.12.7"
  }
 },
 "nbformat": 4,
 "nbformat_minor": 2
}
