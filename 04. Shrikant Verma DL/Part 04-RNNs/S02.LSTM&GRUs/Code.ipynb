{
 "cells": [
  {
   "cell_type": "code",
   "execution_count": null,
   "metadata": {},
   "outputs": [],
   "source": [
    "''' \n",
    "Resources\n",
    "https://github.com/JamesNolan17/Text-Summarization-Backend\n",
    "https://github.com/Arpitvaland/Audio-Summeries.git\n",
    "https://github.com/sudhir415/LSTM_Inshorts_Summary_Creation.git\n",
    "'''"
   ]
  },
  {
   "cell_type": "code",
   "execution_count": null,
   "metadata": {},
   "outputs": [],
   "source": [
    "# https://drive.google.com/uc?id=1sui9RXvSPDa4s2kooQwRGhB8tazhcgD\n",
    "# https://drive.google.com/uc?id=1H3gdo7SLBiWE_GGD6_xcdAp2wJJFcd5L"
   ]
  },
  {
   "cell_type": "code",
   "execution_count": 2,
   "metadata": {},
   "outputs": [],
   "source": [
    "# !gdown 1sui9RXvSPDa4s2kooQwRGhB8tazhcgD\n",
    "# !gdown 1H3gdo7SLBiWE_GGD6_xcdAp2wJJFcd5L"
   ]
  },
  {
   "cell_type": "code",
   "execution_count": 6,
   "metadata": {},
   "outputs": [
    {
     "name": "stderr",
     "output_type": "stream",
     "text": [
      "Failed to retrieve file url:\n",
      "\n",
      "\tCannot retrieve the public link of the file. You may need to change\n",
      "\tthe permission to 'Anyone with the link', or have had many accesses.\n",
      "\tCheck FAQ in https://github.com/wkentaro/gdown?tab=readme-ov-file#faq.\n",
      "\n",
      "You may still be able to access the file from the browser:\n",
      "\n",
      "\thttps://drive.google.com/uc?id=1sui9RXvSPDa4s2kooQwRGhB8tazhcgD\n",
      "\n",
      "but Gdown can't. Please check connections and permissions.\n"
     ]
    }
   ],
   "source": [
    "!gdown 1sui9RXvSPDa4s2kooQwRGhB8tazhcgD\n"
   ]
  },
  {
   "cell_type": "code",
   "execution_count": 4,
   "metadata": {},
   "outputs": [],
   "source": [
    "# !pip install rouge-score"
   ]
  },
  {
   "cell_type": "code",
   "execution_count": 5,
   "metadata": {},
   "outputs": [],
   "source": [
    "import pandas as pd\n",
    "import numpy as np\n",
    "import spacy\n",
    "from IPython.display import Image\n",
    "import matplotlib.pyplot as plt\n",
    "import seaborn as sns\n",
    "import warnings\n",
    "\n",
    "warnings.filterwarnings('ignore')"
   ]
  },
  {
   "cell_type": "code",
   "execution_count": null,
   "metadata": {},
   "outputs": [],
   "source": [
    "# Setup some configuration parameters\n",
    "config = {\n",
    "    'min_text_len': 40,\n",
    "    'max_text_len': 160,\n",
    "    'max_summary_len': 30,\n",
    "    'latent_dim': 300,\n",
    "    'embedding_dim': 200\n",
    "}"
   ]
  },
  {
   "cell_type": "code",
   "execution_count": null,
   "metadata": {},
   "outputs": [],
   "source": [
    "from rouge_score import rouge_scorer\n",
    "\n",
    "summary = pd.read_csv('news_summary.csv', encoding='iso-8859-1')\n",
    "raw = pd.read_csv('news_summary_more.csv', encoding='iso-8859-1')\n",
    "\n",
    "raw = raw.rename(columns={'headlines': 'summary'})\n",
    "summary = summary[['headlines', 'text']].rename(columns={'headlines': 'summary'})\n",
    "\n",
    "# Concatenate the summary and the raw files\n",
    "df = pd.concat([raw, summary]).reset_index(drop=True)\n",
    "\n",
    "summary.shape, raw.shape"
   ]
  }
 ],
 "metadata": {
  "kernelspec": {
   "display_name": "Python 3",
   "language": "python",
   "name": "python3"
  },
  "language_info": {
   "codemirror_mode": {
    "name": "ipython",
    "version": 3
   },
   "file_extension": ".py",
   "mimetype": "text/x-python",
   "name": "python",
   "nbconvert_exporter": "python",
   "pygments_lexer": "ipython3",
   "version": "3.12.7"
  }
 },
 "nbformat": 4,
 "nbformat_minor": 2
}
