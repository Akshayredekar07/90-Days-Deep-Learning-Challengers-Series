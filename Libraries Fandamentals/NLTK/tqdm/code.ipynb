{
 "cells": [
  {
   "cell_type": "code",
   "execution_count": 1,
   "metadata": {},
   "outputs": [],
   "source": [
    "import pandas as pd\n",
    "import numpy as np\n",
    "from time import sleep\n",
    "from tqdm import tqdm, trange"
   ]
  },
  {
   "cell_type": "code",
   "execution_count": 2,
   "metadata": {},
   "outputs": [],
   "source": [
    "dogs = np.random.choice(['labradoodle', 'beagle', 'mutt'], size=50_000)\n",
    "smell = np.random.randint(0, 100, size=50_000)\n",
    "\n",
    "df = pd.DataFrame(data=np.array([dogs, smell]).T, columns=['dog', 'smell'])"
   ]
  },
  {
   "cell_type": "code",
   "execution_count": 3,
   "metadata": {},
   "outputs": [
    {
     "data": {
      "text/plain": [
       "50000"
      ]
     },
     "execution_count": 3,
     "metadata": {},
     "output_type": "execute_result"
    }
   ],
   "source": [
    "len(df)"
   ]
  },
  {
   "cell_type": "code",
   "execution_count": 4,
   "metadata": {},
   "outputs": [
    {
     "data": {
      "text/html": [
       "<div>\n",
       "<style scoped>\n",
       "    .dataframe tbody tr th:only-of-type {\n",
       "        vertical-align: middle;\n",
       "    }\n",
       "\n",
       "    .dataframe tbody tr th {\n",
       "        vertical-align: top;\n",
       "    }\n",
       "\n",
       "    .dataframe thead th {\n",
       "        text-align: right;\n",
       "    }\n",
       "</style>\n",
       "<table border=\"1\" class=\"dataframe\">\n",
       "  <thead>\n",
       "    <tr style=\"text-align: right;\">\n",
       "      <th></th>\n",
       "      <th>dog</th>\n",
       "      <th>smell</th>\n",
       "    </tr>\n",
       "  </thead>\n",
       "  <tbody>\n",
       "    <tr>\n",
       "      <th>0</th>\n",
       "      <td>beagle</td>\n",
       "      <td>70</td>\n",
       "    </tr>\n",
       "    <tr>\n",
       "      <th>1</th>\n",
       "      <td>mutt</td>\n",
       "      <td>84</td>\n",
       "    </tr>\n",
       "    <tr>\n",
       "      <th>2</th>\n",
       "      <td>labradoodle</td>\n",
       "      <td>19</td>\n",
       "    </tr>\n",
       "    <tr>\n",
       "      <th>3</th>\n",
       "      <td>labradoodle</td>\n",
       "      <td>17</td>\n",
       "    </tr>\n",
       "    <tr>\n",
       "      <th>4</th>\n",
       "      <td>labradoodle</td>\n",
       "      <td>43</td>\n",
       "    </tr>\n",
       "  </tbody>\n",
       "</table>\n",
       "</div>"
      ],
      "text/plain": [
       "           dog smell\n",
       "0       beagle    70\n",
       "1         mutt    84\n",
       "2  labradoodle    19\n",
       "3  labradoodle    17\n",
       "4  labradoodle    43"
      ]
     },
     "execution_count": 4,
     "metadata": {},
     "output_type": "execute_result"
    }
   ],
   "source": [
    "df.head()"
   ]
  },
  {
   "cell_type": "code",
   "execution_count": 6,
   "metadata": {},
   "outputs": [
    {
     "name": "stderr",
     "output_type": "stream",
     "text": [
      "100%|██████████| 50000/50000 [00:36<00:00, 1374.78it/s]\n"
     ]
    }
   ],
   "source": [
    "for dog in tqdm(dogs):\n",
    "    sleep(0.0001)"
   ]
  },
  {
   "cell_type": "code",
   "execution_count": 7,
   "metadata": {},
   "outputs": [
    {
     "name": "stdout",
     "output_type": "stream",
     "text": [
      "done\n"
     ]
    }
   ],
   "source": [
    "for i in range(50):\n",
    "    sleep(0.1)    \n",
    "print('done')"
   ]
  },
  {
   "cell_type": "code",
   "execution_count": 8,
   "metadata": {},
   "outputs": [
    {
     "name": "stderr",
     "output_type": "stream",
     "text": [
      "100%|██████████| 50/50 [00:05<00:00,  9.82it/s]"
     ]
    },
    {
     "name": "stdout",
     "output_type": "stream",
     "text": [
      "done\n"
     ]
    },
    {
     "name": "stderr",
     "output_type": "stream",
     "text": [
      "\n"
     ]
    }
   ],
   "source": [
    "for i in trange(50):\n",
    "    sleep(0.1)    \n",
    "print('done')"
   ]
  },
  {
   "cell_type": "code",
   "execution_count": 9,
   "metadata": {},
   "outputs": [
    {
     "data": {
      "text/plain": [
       "50000"
      ]
     },
     "execution_count": 9,
     "metadata": {},
     "output_type": "execute_result"
    }
   ],
   "source": [
    "len(dogs)"
   ]
  },
  {
   "cell_type": "code",
   "execution_count": 10,
   "metadata": {},
   "outputs": [
    {
     "name": "stderr",
     "output_type": "stream",
     "text": [
      "100%|█████████▉| 50000/50001 [00:38<00:00, 1282.08it/s]\n"
     ]
    }
   ],
   "source": [
    "for dog in tqdm(dogs, total=50_001):\n",
    "    sleep(0.00001)"
   ]
  },
  {
   "cell_type": "code",
   "execution_count": 11,
   "metadata": {},
   "outputs": [
    {
     "name": "stderr",
     "output_type": "stream",
     "text": [
      "100%|██████████| 50000/50000 [00:38<00:00, 1298.38it/s]\n"
     ]
    }
   ],
   "source": [
    "pbar=tqdm(total=50_000)\n",
    "for s in smell:\n",
    "    pbar.update(1)\n",
    "    sleep(0.000001)\n",
    "pbar.close()"
   ]
  },
  {
   "cell_type": "code",
   "execution_count": 12,
   "metadata": {},
   "outputs": [
    {
     "name": "stderr",
     "output_type": "stream",
     "text": [
      "dogs counter: 100%|██████████| 50000/50000 [00:32<00:00, 1521.95barks/s]\n"
     ]
    }
   ],
   "source": [
    "for dog in tqdm(dogs, desc=\"dogs counter\", unit='barks'):\n",
    "    sleep(0.00001)\n",
    "    "
   ]
  },
  {
   "cell_type": "code",
   "execution_count": 13,
   "metadata": {},
   "outputs": [
    {
     "name": "stderr",
     "output_type": "stream",
     "text": [
      "smell counter: 100%|██████████| 2/2 [00:00<00:00,  9.64it/s]\n",
      "smell counter: 100%|██████████| 2/2 [00:00<00:00,  9.33it/s]\n",
      "smell counter: 100%|██████████| 2/2 [00:00<00:00,  9.57it/s]\n",
      "smell counter: 100%|██████████| 2/2 [00:00<00:00,  9.51it/s]\n",
      "smell counter: 100%|██████████| 2/2 [00:00<00:00,  9.81it/s]\n",
      "dog counter: 100%|██████████| 5/5 [00:01<00:00,  4.62it/s]\n"
     ]
    }
   ],
   "source": [
    "for dog in tqdm(dogs[:5], desc='dog counter', total=5):\n",
    "    for s in tqdm(smell[:2], desc='smell counter', total=2):\n",
    "        sleep(0.1)"
   ]
  },
  {
   "cell_type": "code",
   "execution_count": 14,
   "metadata": {},
   "outputs": [
    {
     "name": "stderr",
     "output_type": "stream",
     "text": [
      "Processing labradoodle: 100%|██████████| 10/10 [00:05<00:00,  1.98it/s]\n"
     ]
    }
   ],
   "source": [
    "pbar = tqdm(dogs[:10]) \n",
    "for dog in pbar:\n",
    "    sleep(0.5)\n",
    "    pbar.set_description(f'Processing {dog}')"
   ]
  },
  {
   "cell_type": "code",
   "execution_count": 15,
   "metadata": {},
   "outputs": [
    {
     "name": "stderr",
     "output_type": "stream",
     "text": [
      "100%|██| 9999999/9999999 [00:00<00:00, 11519878.26it/s]\n"
     ]
    }
   ],
   "source": [
    "for i in tqdm(range(9999999), ncols=55):\n",
    "    pass"
   ]
  },
  {
   "cell_type": "code",
   "execution_count": 16,
   "metadata": {},
   "outputs": [
    {
     "name": "stderr",
     "output_type": "stream",
     "text": [
      "100%|██████████| 50000/50000 [00:37<00:00, 1332.18it/s]\n"
     ]
    }
   ],
   "source": [
    "for dog in tqdm(dogs, maxinterval=100):\n",
    "    sleep(0.00001)\n",
    "\n"
   ]
  },
  {
   "cell_type": "code",
   "execution_count": 17,
   "metadata": {},
   "outputs": [
    {
     "name": "stderr",
     "output_type": "stream",
     "text": [
      "100%|██████████| 50000/50000 [00:30<00:00, 1623.98it/s]\n"
     ]
    }
   ],
   "source": [
    "# Disabling progress bar\n",
    "debug = True\n",
    "for s in tqdm(smell, disable=not debug):\n",
    "    sleep(0.00001)"
   ]
  },
  {
   "cell_type": "code",
   "execution_count": 22,
   "metadata": {},
   "outputs": [
    {
     "name": "stderr",
     "output_type": "stream",
     "text": [
      "dog bar: 100%|██████████| 1000/1000 [00:00<00:00, 90943.28it/s]\n"
     ]
    }
   ],
   "source": [
    "# Sample DataFrame\n",
    "df = pd.DataFrame({'a': range(1000), 'b': range(1000)})\n",
    "\n",
    "# Define a sample function to apply\n",
    "def sample_function(row):\n",
    "    # Simulate a time-consuming operation\n",
    "    return row['a'] + row['b']\n",
    "\n",
    "# Apply the function with a progress bar\n",
    "df['c'] = df.progress_apply(sample_function, axis=1)\n"
   ]
  },
  {
   "cell_type": "code",
   "execution_count": 24,
   "metadata": {},
   "outputs": [
    {
     "name": "stderr",
     "output_type": "stream",
     "text": [
      "dog bar: 100%|██████████| 1000/1000 [00:00<00:00, 362296.28it/s]\n"
     ]
    }
   ],
   "source": [
    "# Sample Series\n",
    "s = pd.Series(range(1000))\n",
    "\n",
    "# Apply a lambda function with a progress bar\n",
    "s_squared = s.progress_map(lambda x: x**2)\n"
   ]
  },
  {
   "cell_type": "code",
   "execution_count": 26,
   "metadata": {},
   "outputs": [
    {
     "name": "stderr",
     "output_type": "stream",
     "text": [
      "dog bar: 100%|██████████| 2/2 [00:00<00:00, 660.68it/s]\n"
     ]
    }
   ],
   "source": [
    "# Sample DataFrame\n",
    "df = pd.DataFrame({'group': ['A']*500 + ['B']*500, 'value': range(1000)})\n",
    "\n",
    "# Define a function to apply to each group\n",
    "def group_function(group):\n",
    "    # Simulate a time-consuming operation\n",
    "    return group['value'].sum()\n",
    "\n",
    "# Apply the function to each group with a progress bar\n",
    "grouped_result = df.groupby('group').progress_apply(group_function)\n"
   ]
  },
  {
   "cell_type": "code",
   "execution_count": 27,
   "metadata": {},
   "outputs": [
    {
     "name": "stderr",
     "output_type": "stream",
     "text": [
      "100%|██████████| 1000/1000 [00:10<00:00, 92.19it/s]\n"
     ]
    }
   ],
   "source": [
    "import pandas as pd\n",
    "import numpy as np\n",
    "from tqdm import tqdm\n",
    "import time\n",
    "\n",
    "# Register tqdm with pandas\n",
    "tqdm.pandas()\n",
    "\n",
    "# Create a sample DataFrame\n",
    "df = pd.DataFrame({'a': np.random.rand(1000), 'b': np.random.rand(1000)})\n",
    "\n",
    "# Define a function that simulates a time-consuming operation\n",
    "def complex_calculation(row):\n",
    "    time.sleep(0.01)  # Simulate delay\n",
    "    return row['a'] ** 2 + row['b'] ** 2\n",
    "\n",
    "# Apply the function with a progress bar\n",
    "df['result'] = df.progress_apply(complex_calculation, axis=1)\n"
   ]
  },
  {
   "cell_type": "code",
   "execution_count": 28,
   "metadata": {},
   "outputs": [
    {
     "data": {
      "application/vnd.jupyter.widget-view+json": {
       "model_id": "dc8a4889f07d4ee7b4d7f4cd14e51f7f",
       "version_major": 2,
       "version_minor": 0
      },
      "text/plain": [
       "  0%|          | 0/50000 [00:00<?, ?it/s]"
      ]
     },
     "metadata": {},
     "output_type": "display_data"
    }
   ],
   "source": [
    "from tqdm.notebook import tqdm\n",
    "\n",
    "for dog in tqdm(dogs):\n",
    "    sleep(0.000001)"
   ]
  },
  {
   "cell_type": "code",
   "execution_count": null,
   "metadata": {},
   "outputs": [],
   "source": []
  }
 ],
 "metadata": {
  "kernelspec": {
   "display_name": "Python 3",
   "language": "python",
   "name": "python3"
  },
  "language_info": {
   "codemirror_mode": {
    "name": "ipython",
    "version": 3
   },
   "file_extension": ".py",
   "mimetype": "text/x-python",
   "name": "python",
   "nbconvert_exporter": "python",
   "pygments_lexer": "ipython3",
   "version": "3.12.7"
  }
 },
 "nbformat": 4,
 "nbformat_minor": 2
}
